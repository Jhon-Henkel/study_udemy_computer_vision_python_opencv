{
 "cells": [
  {
   "cell_type": "markdown",
   "id": "4ea0a7968af362d5",
   "metadata": {},
   "source": [
    "## Segmentação por binarização\n",
    "A segmentação por binarização também é conhecida como aplicação de limiar de intensidade. A separação do objeto de interesse por meio desse método ocorre pela definição do valor de um limiar.\n",
    "\n",
    "Quando uma imagem é submetida a esse procedimento, os pixels representados por valores maiores que o limiar são estabelecidos como o objeto de interesse, sendo redefinidos para a cor preta ou branca. Do contrário, os pixels representados por valores menores que o limiar são estabelecidos como o segundo plano, sendo redefinidos para a cor oposta à do objeto de interesse.\n",
    "\n",
    "A segmentação por binarização resulta em uma imagem binária, naqual geralmente o objeto de interesse é representado pla cor branca e o segundo plano pela cor preta.\n",
    "\n",
    "Importanto as bibliotecas e lendo a imagem"
   ]
  },
  {
   "cell_type": "code",
   "id": "6cecfdb575f9b4af",
   "metadata": {},
   "source": [
    "import cv2\n",
    "import numpy as np\n",
    "from matplotlib import pyplot as plt\n",
    "%notebook inline\n",
    "\n",
    "img = cv2.imread(\"images/01.jpg\")"
   ],
   "outputs": [],
   "execution_count": null
  },
  {
   "cell_type": "markdown",
   "id": "482bed56fe8ae0d8",
   "metadata": {},
   "source": [
    "FUNÇÃO threshold(img, limiar, val_int, método) Entrada:\n",
    "1. img = Imagem com a qual queremos trabalhar em tons de cinza.\n",
    "2. limiar = valor estipulado pelo usuário.\n",
    "3. val_int = valor de intensidade dos pixels com valores maiores que o limiar.\n",
    "4. método = THRESH_BINARY – Objeto de interesse em cor preta. THRESH_BINARY_INV – Objeto de interesse em cor branca.\n",
    "\n",
    "Saída = Matriz referente a imagem binarizada."
   ]
  },
  {
   "cell_type": "code",
   "id": "fced18ba64e3fc50",
   "metadata": {},
   "source": [
    "metodo = cv2.THRESH_BINARY_INV\n",
    "ret, imgBin = cv2.threshold(img, 200,255, metodo)"
   ],
   "outputs": [],
   "execution_count": null
  },
  {
   "cell_type": "code",
   "id": "ea4ef099d69ef727",
   "metadata": {},
   "source": [
    "fig = plt.figure(figsize=(15,15))\n",
    "\n",
    "ax1 = fig.add_subplot(221)\n",
    "plt.imshow(img)\n",
    "plt.title(\"Imagem Original\")\n",
    "\n",
    "ax2 = fig.add_subplot(222)\n",
    "plt.imshow(imgBin)\n",
    "plt.title(\"Imagem Segmentada\")\n",
    "\n",
    "plt.show()"
   ],
   "outputs": [],
   "execution_count": null
  }
 ],
 "metadata": {
  "kernelspec": {
   "display_name": "Python 3",
   "language": "python",
   "name": "python3"
  },
  "language_info": {
   "codemirror_mode": {
    "name": "ipython",
    "version": 2
   },
   "file_extension": ".py",
   "mimetype": "text/x-python",
   "name": "python",
   "nbconvert_exporter": "python",
   "pygments_lexer": "ipython2"
  }
 },
 "nbformat": 4,
 "nbformat_minor": 5
}
