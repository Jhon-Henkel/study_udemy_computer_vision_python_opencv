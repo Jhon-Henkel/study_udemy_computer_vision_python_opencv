{
 "cells": [
  {
   "metadata": {},
   "cell_type": "markdown",
   "source": [
    "### Binarização adaptativa\n",
    "Esse método é usado quando a imagem não possui iluminação adequada para o procedimento de binarização. A binarização adaptativa calcula diferentes valores de limiar para cada região da imagem, logo, cada região é tratada a fim de obter o melhor resultado cosiderando o seu contraste.\n",
    "\n",
    "Importando as bibliotecas e lendo a imagem."
   ],
   "id": "bfcd0c0dde83dbcc"
  },
  {
   "metadata": {
    "ExecuteTime": {
     "end_time": "2025-06-10T19:35:56.670916Z",
     "start_time": "2025-06-10T19:35:56.630397Z"
    }
   },
   "cell_type": "code",
   "source": [
    "import cv2\n",
    "import numpy as np\n",
    "from matplotlib import pyplot as plt\n",
    "%notebook inline\n",
    "\n",
    "img = cv2.imread('images/02.PNG', 0)"
   ],
   "id": "10b8b2b3636336d3",
   "outputs": [],
   "execution_count": 2
  },
  {
   "metadata": {},
   "cell_type": "markdown",
   "source": [
    "Aplicando um filtro mediana na imagem para suaviza-la melhor\n",
    "\n"
   ],
   "id": "2ed7dac09d9c61d0"
  },
  {
   "metadata": {
    "ExecuteTime": {
     "end_time": "2025-06-10T19:35:58.755339Z",
     "start_time": "2025-06-10T19:35:58.746743Z"
    }
   },
   "cell_type": "code",
   "source": "imgGauss = cv2.medianBlur(img, 7)",
   "id": "ae68d1a8ca28c2fb",
   "outputs": [],
   "execution_count": 3
  },
  {
   "metadata": {},
   "cell_type": "markdown",
   "source": [
    "FUNÇÃO adaptiveThreshold(src, maxValue, adaptiveMethod, thresholdType, blockSize, C)\n",
    "\n",
    "Entrada:\n",
    "1. src = Matriz referente à imagem.\n",
    "2. maxValue = Valor de intensidade máxima do pixel.\n",
    "3. adaptiveMethod = ADAPTIVE_THRESH_MEAN_C ADAPTIVE_THRESH_GAUSSIAN_C\n",
    "4. thresholdType = THRESH_BINARY – Objeto de interesse em cor preta. THRESH_BINARY_INV – Objeto de interesse em cor branca.\n",
    "5. blockSize = Tamanho da máscara.\n",
    "6. C = Constante de subtração da média ou da média ponderada.\n",
    "\n",
    "Saída = Matriz referente a imagem binarizada adaptada."
   ],
   "id": "5f78f7a0f97597b2"
  },
  {
   "metadata": {
    "ExecuteTime": {
     "end_time": "2025-06-10T19:35:59.979680Z",
     "start_time": "2025-06-10T19:35:59.975871Z"
    }
   },
   "cell_type": "code",
   "source": [
    "th2 = cv2.adaptiveThreshold(imgGauss, 255, cv2.ADAPTIVE_THRESH_MEAN_C, cv2.THRESH_BINARY, 11, 5)\n",
    "th3 = cv2.adaptiveThreshold(imgGauss, 255, cv2.ADAPTIVE_THRESH_GAUSSIAN_C, cv2.THRESH_BINARY, 11, 2)"
   ],
   "id": "27de339ba41f8717",
   "outputs": [],
   "execution_count": 4
  },
  {
   "metadata": {},
   "cell_type": "markdown",
   "source": "Imagens segmentadas por binarização adaptativa",
   "id": "64f259ec660eb403"
  },
  {
   "metadata": {
    "ExecuteTime": {
     "end_time": "2025-06-10T19:36:03.162866Z",
     "start_time": "2025-06-10T19:36:01.085560Z"
    }
   },
   "cell_type": "code",
   "source": [
    "cv2.imshow('Original', img)\n",
    "cv2.imshow('Imagem Media', th2)\n",
    "cv2.imshow('Imagem Gaussiana', th3)\n",
    "\n",
    "cv2.waitKey(0)\n",
    "cv2.destroyAllWindows()"
   ],
   "id": "5483b647ba0b875e",
   "outputs": [],
   "execution_count": 5
  }
 ],
 "metadata": {
  "kernelspec": {
   "display_name": "Python 3",
   "language": "python",
   "name": "python3"
  },
  "language_info": {
   "codemirror_mode": {
    "name": "ipython",
    "version": 2
   },
   "file_extension": ".py",
   "mimetype": "text/x-python",
   "name": "python",
   "nbconvert_exporter": "python",
   "pygments_lexer": "ipython2",
   "version": "2.7.6"
  }
 },
 "nbformat": 4,
 "nbformat_minor": 5
}
