{
 "cells": [
  {
   "cell_type": "markdown",
   "id": "bfcd0c0dde83dbcc",
   "metadata": {},
   "source": [
    "### Binarização adaptativa\n",
    "Esse método é usado quando a imagem não possui iluminação adequada para o procedimento de binarização. A binarização adaptativa calcula diferentes valores de limiar para cada região da imagem, logo, cada região é tratada a fim de obter o melhor resultado cosiderando o seu contraste.\n",
    "\n",
    "Importando as bibliotecas e lendo a imagem."
   ]
  },
  {
   "cell_type": "code",
   "execution_count": null,
   "id": "10b8b2b3636336d3",
   "metadata": {},
   "outputs": [],
   "source": [
    "import cv2\n",
    "import numpy as np\n",
    "from matplotlib import pyplot as plt\n",
    "\n",
    "img = cv2.imread('images/02.PNG', 0)"
   ]
  },
  {
   "cell_type": "markdown",
   "id": "2ed7dac09d9c61d0",
   "metadata": {},
   "source": [
    "Aplicando um filtro mediana na imagem para suaviza-la melhor\n",
    "\n"
   ]
  },
  {
   "cell_type": "code",
   "execution_count": null,
   "id": "ae68d1a8ca28c2fb",
   "metadata": {},
   "outputs": [],
   "source": [
    "imgGauss = cv2.medianBlur(img, 7)"
   ]
  },
  {
   "cell_type": "markdown",
   "id": "5f78f7a0f97597b2",
   "metadata": {},
   "source": [
    "FUNÇÃO adaptiveThreshold(src, maxValue, adaptiveMethod, thresholdType, blockSize, C)\n",
    "\n",
    "Entrada:\n",
    "1. src = Matriz referente à imagem.\n",
    "2. maxValue = Valor de intensidade máxima do pixel.\n",
    "3. adaptiveMethod = ADAPTIVE_THRESH_MEAN_C ADAPTIVE_THRESH_GAUSSIAN_C\n",
    "4. thresholdType = THRESH_BINARY – Objeto de interesse em cor preta. THRESH_BINARY_INV – Objeto de interesse em cor branca.\n",
    "5. blockSize = Tamanho da máscara.\n",
    "6. C = Constante de subtração da média ou da média ponderada.\n",
    "\n",
    "Saída = Matriz referente a imagem binarizada adaptada."
   ]
  },
  {
   "cell_type": "code",
   "execution_count": null,
   "id": "27de339ba41f8717",
   "metadata": {},
   "outputs": [],
   "source": [
    "th2 = cv2.adaptiveThreshold(imgGauss, 255, cv2.ADAPTIVE_THRESH_MEAN_C, cv2.THRESH_BINARY, 11, 5)\n",
    "th3 = cv2.adaptiveThreshold(imgGauss, 255, cv2.ADAPTIVE_THRESH_GAUSSIAN_C, cv2.THRESH_BINARY, 11, 2)"
   ]
  },
  {
   "cell_type": "markdown",
   "id": "64f259ec660eb403",
   "metadata": {},
   "source": [
    "Imagens segmentadas por binarização adaptativa"
   ]
  },
  {
   "cell_type": "code",
   "execution_count": null,
   "id": "5483b647ba0b875e",
   "metadata": {},
   "outputs": [],
   "source": [
    "cv2.imshow('Original', img)\n",
    "cv2.imshow('Imagem Media', th2)\n",
    "cv2.imshow('Imagem Gaussiana', th3)\n",
    "\n",
    "cv2.waitKey(0)\n",
    "cv2.destroyAllWindows()"
   ]
  }
 ],
 "metadata": {
  "kernelspec": {
   "display_name": "Python 3",
   "language": "python",
   "name": "python3"
  },
  "language_info": {
   "codemirror_mode": {
    "name": "ipython",
    "version": 2
   },
   "file_extension": ".py",
   "mimetype": "text/x-python",
   "name": "python",
   "nbconvert_exporter": "python",
   "pygments_lexer": "ipython2"
  }
 },
 "nbformat": 4,
 "nbformat_minor": 5
}
