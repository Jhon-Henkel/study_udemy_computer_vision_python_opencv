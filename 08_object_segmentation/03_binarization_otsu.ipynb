{
 "cells": [
  {
   "cell_type": "markdown",
   "id": "a03b3fe99746d322",
   "metadata": {},
   "source": [
    "### Binarização por Otsu\n",
    "Foi abordado na binarização por limiar e adaptativa um valor no qual cada pixel da imagem é comparado e depois segmentado de acordo com essa comparação. Mas um grande inconveniente desses métodos é que o usuário precisa passar esse valor de limiar para ser feito a segmentação da imagem.\n",
    "\n",
    "Uma forma de automatizar esse procedimento é justamente o algoritmo de Otsu, no qual define um limiar baseado no histograma da imagem.\n",
    "\n",
    "Esse algoritmo pode ser usado junto à função threshold, necessitando apenas que a constante THRESH_OTSU seja tomada ao tipo definido para a binarização.\n",
    "\n",
    "Importando as bibliotecas e lendo a imagem."
   ]
  },
  {
   "cell_type": "code",
   "id": "b44186e2a66029b9",
   "metadata": {},
   "source": [
    "import cv2\n",
    "import numpy as np\n",
    "from matplotlib import pyplot as plt\n",
    "\n",
    "img = cv2.imread(\"images/01.jpg\", 0)"
   ],
   "outputs": [],
   "execution_count": null
  },
  {
   "cell_type": "markdown",
   "id": "c82685772ea15f84",
   "metadata": {},
   "source": [
    "Definindo o método de binarização"
   ]
  },
  {
   "cell_type": "code",
   "id": "99a0afeea7d9ad4d",
   "metadata": {},
   "source": [
    "metodo = cv2.THRESH_BINARY_INV + cv2.THRESH_OTSU\n",
    "ret, imgBin = cv2.threshold(img, 0, 255, metodo)\n",
    "\n",
    "print(\"O melhor limiar é:\", ret)\n",
    "\n",
    "plt.hist(img.ravel(), 256, range=[0,256])\n",
    "cv2.imshow('Original', img)\n",
    "plt.show()\n",
    "cv2.imshow('Otsu', imgBin)\n",
    "\n",
    "cv2.waitKey(0)\n",
    "cv2.destroyAllWindows()"
   ],
   "outputs": [],
   "execution_count": null
  }
 ],
 "metadata": {
  "kernelspec": {
   "display_name": "Python 3",
   "language": "python",
   "name": "python3"
  },
  "language_info": {
   "codemirror_mode": {
    "name": "ipython",
    "version": 2
   },
   "file_extension": ".py",
   "mimetype": "text/x-python",
   "name": "python",
   "nbconvert_exporter": "python",
   "pygments_lexer": "ipython2"
  }
 },
 "nbformat": 4,
 "nbformat_minor": 5
}
