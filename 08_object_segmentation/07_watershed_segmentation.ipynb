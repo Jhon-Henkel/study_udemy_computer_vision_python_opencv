{
 "cells": [
  {
   "cell_type": "markdown",
   "metadata": {},
   "source": [
    "# Segementação por Watershed"
   ]
  },
  {
   "cell_type": "code",
   "metadata": {},
   "source": [
    "import cv2\n",
    "import numpy as np\n",
    "\n",
    "from scipy import ndimage as ndi\n",
    "from skimage.feature import peak_local_max\n",
    "from skimage.segmentation import watershed\n",
    "\n",
    "import matplotlib.pyplot as plt\n"
   ],
   "outputs": [],
   "execution_count": null
  },
  {
   "cell_type": "code",
   "metadata": {},
   "source": [
    "img = cv2.imread('images/04.jpg')\n",
    "\n",
    "# filtro para preservação de borda de imagem\n",
    "# frequentemente usado para remover ruído antes da segmentação por watershed\n",
    "filtro = cv2.pyrMeanShiftFiltering(img, 20, 40)\n",
    "\n",
    "gray = cv2.cvtColor(filtro, cv2.COLOR_BGR2GRAY)\n",
    "_, thresh = cv2.threshold(gray, 0, 255, cv2.THRESH_BINARY_INV | cv2.THRESH_OTSU)\n",
    "\n",
    "titulos = ['Imagem Original', 'Filtro', 'Tons de cinza', 'Thresh']\n",
    "imagens = [img, filtro, gray, thresh]\n",
    "\n",
    "fig = plt.gcf()\n",
    "fig.set_size_inches(16, 12)\n",
    "for i in range(4):\n",
    "    plt.subplot(2,2,i+1)\n",
    "    plt.imshow(imagens[i])\n",
    "    plt.title(titulos[i]) \n",
    "    plt.xticks([]),plt.yticks([])     \n",
    "plt.show()"
   ],
   "outputs": [],
   "execution_count": null
  },
  {
   "cell_type": "markdown",
   "metadata": {},
   "source": [
    "# Preenchimento dos buracos na  imagem binaria\n"
   ]
  },
  {
   "cell_type": "code",
   "metadata": {},
   "source": [
    "contornos, _ = cv2.findContours(thresh, cv2.RETR_TREE, cv2.CHAIN_APPROX_SIMPLE)\n",
    "buracos = []\n",
    "for con in contornos:\n",
    "    area = cv2.contourArea(con)\n",
    "    if area < 1000:\n",
    "        buracos.append(con)\n",
    "cv2.drawContours(thresh, buracos, -1, 255, -1)\n",
    "\n",
    "fig = plt.gcf()\n",
    "fig.set_size_inches(12, 8)\n",
    "plt.imshow(thresh)"
   ],
   "outputs": [],
   "execution_count": null
  },
  {
   "cell_type": "markdown",
   "metadata": {},
   "source": [
    "## Calculo da distância da transformação\n",
    "\n",
    "` ndi.distance_transform_edt`\n",
    "\n",
    "* **src** − imagem de entrada.\n",
    "* **dst** − imagem de saída.\n",
    "* **distanceType** − Uma variável que representa o tipo de transformação de distância\n",
    "* **maskSize** − Uma variável que representa o tamanho da máscara (geralmente é definida com um valor 3)\n",
    "\n",
    "Para o parâmetro distanceType, podemos escolher vários tipos diferentes de transformada de distância. Em nosso código, estamos usando uma distância euclidiana simples. No exemplo a seguir, você pode ver alguns outros tipos de transformação de distância.\n",
    "\n",
    "* DIST_USER – distância definida pelo usuário\n",
    "* DIST_L1 – $(distância = |x_{1}-x_{2}|+| y_{1}-y_{2} \\mid)$\n",
    "* DIST_L2 – a distância euclidiana simples\n",
    "* DIST_C – $(distância = max(|x_{1}-x_{2}|,| y_{1}-y_{2} \\mid))$"
   ]
  },
  {
   "cell_type": "code",
   "metadata": {},
   "source": [
    "dist = ndi.distance_transform_edt(thresh, cv2.DIST_L2)\n",
    "dist_visual = dist.copy()"
   ],
   "outputs": [],
   "execution_count": null
  },
  {
   "cell_type": "markdown",
   "metadata": {},
   "source": [
    "### Encontrando pontos de máximos locais\n",
    "\n",
    "O próximo passo é encontrar as coordenadas dos picos (máximos locais) das áreas brancas na imagem. Para isso, usaremos a função `peak_local_max()`da biblioteca Scikit-image. Vamos aplicar esta função à nossa `distance_transform` imagem e a saída nos dará os marcadores que serão usados na função watershed."
   ]
  },
  {
   "cell_type": "code",
   "metadata": {},
   "source": [
    "coordinates = peak_local_max(dist, min_distance=20, labels=thresh)\n",
    "\n",
    "local_max = np.zeros_like(dist, dtype=bool)\n",
    "local_max[tuple(coordinates.T)] = True"
   ],
   "outputs": [],
   "execution_count": null
  },
  {
   "cell_type": "markdown",
   "metadata": {},
   "source": [
    "### Marcando os Labels\n",
    "\n",
    "O próximo passo é rotular marcadores para a função `watershed`. Para isso, usaremos a função  `ndi.label()` da biblioteca SciPy.\n",
    "\n",
    "Esta função consiste em um parâmetro `input` que é um objeto tipo array a ser rotulado. Quaisquer valores diferentes de zero neste parâmetro são considerados como características e os valores zero são considerados como plano de fundo. Nesse caso usaremos as coordenadas do máximo local calculado.\n",
    "\n",
    "Em seguida, a função `ndi.label()` rotulará aleatoriamente todos os máximos locais com diferentes valores positivos a partir de 1. Assim, caso tenhamos 10 objetos na imagem, cada um deles será rotulado com um valor de 1 a 10."
   ]
  },
  {
   "cell_type": "code",
   "metadata": {},
   "source": [
    "markers = ndi.label(local_max, structure=np.ones((3, 3)))[0]"
   ],
   "outputs": [],
   "execution_count": null
  },
  {
   "cell_type": "markdown",
   "metadata": {},
   "source": [
    "### Watershed\n",
    "\n",
    "A etapa final é aplicar a `skimage.segmentation.watershed()` função da biblioteca Scikit-image. \n",
    "\n",
    "Como parâmetros, precisamos passar nossa imagem de transformação de distância invertida e os marcadores que calculamos na linha de código anterior. \n",
    "\n",
    "Como o algoritmo de watershed assume que nossos marcadores representam mínimos locais, precisamos inverter nossa imagem de transformada de distância. Dessa forma, pixels claros representarão elevações altas, enquanto pixels escuros representarão elevações baixas para a transformada de bacia."
   ]
  },
  {
   "cell_type": "code",
   "metadata": {},
   "source": [
    "labels = watershed(-dist, markers, mask=thresh)"
   ],
   "outputs": [],
   "execution_count": null
  },
  {
   "cell_type": "code",
   "metadata": {},
   "source": [
    "titulos = ['Imagem Original', 'Limiarização (objetos juntos)', 'Distance Transform', 'Watershed (objetos separados)']\n",
    "imagens = [img, thresh, dist_visual, labels]\n",
    "\n",
    "fig = plt.gcf()\n",
    "fig.set_size_inches(16, 12)  \n",
    "for i in range(4):\n",
    "    plt.subplot(2,2,i+1)\n",
    "    # condição para colocar colormap jet apenas pra imagem com o resultado do watershed\n",
    "    if (i == 3):\n",
    "        cmap = \"jet\"\n",
    "    else:\n",
    "        cmap = \"gray\"\n",
    "    plt.imshow(imagens[i], cmap)\n",
    "    plt.title(titulos[i]) \n",
    "    plt.xticks([]),plt.yticks([])     \n",
    "plt.show()"
   ],
   "outputs": [],
   "execution_count": null
  }
 ],
 "metadata": {
  "kernelspec": {
   "display_name": "Python 3",
   "language": "python",
   "name": "python3"
  },
  "language_info": {
   "codemirror_mode": {
    "name": "ipython",
    "version": 3
   },
   "file_extension": ".py",
   "mimetype": "text/x-python",
   "name": "python",
   "nbconvert_exporter": "python",
   "pygments_lexer": "ipython3",
   "version": "3.8.6rc1"
  }
 },
 "nbformat": 4,
 "nbformat_minor": 4
}
