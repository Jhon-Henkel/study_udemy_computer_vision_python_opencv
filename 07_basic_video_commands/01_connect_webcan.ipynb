{
 "cells": [
  {
   "cell_type": "markdown",
   "id": "1744415603b8ebd",
   "metadata": {},
   "source": [
    "## Conexão com a câmera\n",
    "\n",
    "Objetivo desse projeto é fazer uma simples conexão entre o Open CV e a câmera do computador/laptop."
   ]
  },
  {
   "cell_type": "code",
   "execution_count": null,
   "id": "36e3512eb2d8e6d2",
   "metadata": {},
   "outputs": [],
   "source": [
    "import cv2\n",
    "\n",
    "# Captura de vídeo frame por frame\n",
    "cap = cv2.VideoCapture(0)\n",
    "\n",
    "# Altura e largura\n",
    "width = int(cap.get(cv2.CAP_PROP_FRAME_WIDTH))\n",
    "height = int(cap.get(cv2.CAP_PROP_FRAME_HEIGHT))\n",
    "\n",
    "# Salvando um vídeo (se for linux ou macos, usar o codec xvid, se for windows, usar o codec divx)\n",
    "writer = cv2.VideoWriter('video.mp4', cv2.VideoWriter_fourcc(*'DIVX'), 20, (width, height))\n",
    "\n",
    "# Laço de repetição\n",
    "while True:\n",
    "    ret, frame = cap.read()\n",
    "    cv2.imshow('frame', frame)\n",
    "    writer.write(frame)\n",
    "\n",
    "    # Se apertar a tecla q, para o laço de repetição\n",
    "    if cv2.waitKey(1) & 0xFF == ord('q'):\n",
    "        break\n",
    "\n",
    "cap.release()\n",
    "writer.release()\n",
    "cv2.destroyAllWindows()"
   ]
  }
 ],
 "metadata": {
  "kernelspec": {
   "display_name": "Python 3",
   "language": "python",
   "name": "python3"
  },
  "language_info": {
   "codemirror_mode": {
    "name": "ipython",
    "version": 2
   },
   "file_extension": ".py",
   "mimetype": "text/x-python",
   "name": "python",
   "nbconvert_exporter": "python",
   "pygments_lexer": "ipython2"
  }
 },
 "nbformat": 4,
 "nbformat_minor": 5
}
