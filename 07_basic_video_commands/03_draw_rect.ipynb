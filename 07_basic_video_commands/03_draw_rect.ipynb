{
 "cells": [
  {
   "cell_type": "code",
   "execution_count": null,
   "id": "initial_id",
   "metadata": {},
   "outputs": [],
   "source": [
    "import cv2\n",
    "\n",
    "cap = cv2.VideoCapture(0)\n",
    "\n",
    "# Callback Retângulo\n",
    "def drawn_rectangle(event, x, y, flags, params):\n",
    "    global point1, point2, topLeftClicked, bottomRightClicked\n",
    "\n",
    "    if event == cv2.EVENT_LBUTTONDOWN:\n",
    "        if topLeftClicked and bottomRightClicked:\n",
    "            point1 = (0,0)\n",
    "            point2 = (0,0)\n",
    "            topLeftClicked = False\n",
    "            bottomRightClicked = False\n",
    "\n",
    "        if not topLeftClicked:\n",
    "            point1 = (x, y)\n",
    "            topLeftClicked = True\n",
    "        elif not bottomRightClicked:\n",
    "            point2 = (x, y)\n",
    "            bottomRightClicked = True\n",
    "\n",
    "# Variáveis Globais\n",
    "point1 = (0,0)\n",
    "point2 = (0,0)\n",
    "topLeftClicked = False\n",
    "bottomRightClicked = False\n",
    "\n",
    "cv2.namedWindow('frame')\n",
    "cv2.setMouseCallback('frame', drawn_rectangle)\n",
    "\n",
    "while True:\n",
    "    ret, frame = cap.read()\n",
    "\n",
    "    ## Desenhar Retângulo conforme as variáveis globais\n",
    "    if topLeftClicked:\n",
    "        cv2.circle(frame, center=point1, radius=5, color=(0, 0, 255))\n",
    "\n",
    "    if topLeftClicked and bottomRightClicked:\n",
    "        cv2.rectangle(frame, point1, point2, color=(0, 0, 255), thickness=1)\n",
    "\n",
    "    cv2.imshow('frame', frame)\n",
    "\n",
    "    if cv2.waitKey(1) & 0xFF == ord('q'):\n",
    "        break\n",
    "\n",
    "cap.release()\n",
    "cv2.destroyAllWindows()"
   ]
  }
 ],
 "metadata": {
  "kernelspec": {
   "display_name": "Python 3",
   "language": "python",
   "name": "python3"
  },
  "language_info": {
   "codemirror_mode": {
    "name": "ipython",
    "version": 2
   },
   "file_extension": ".py",
   "mimetype": "text/x-python",
   "name": "python",
   "nbconvert_exporter": "python",
   "pygments_lexer": "ipython2"
  }
 },
 "nbformat": 4,
 "nbformat_minor": 5
}
