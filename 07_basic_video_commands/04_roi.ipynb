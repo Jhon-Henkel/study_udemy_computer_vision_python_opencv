{
 "cells": [
  {
   "cell_type": "markdown",
   "id": "fd7497369b34aa13",
   "metadata": {},
   "source": [
    "## ROI de uma imagem\n",
    "\n",
    "Um conceito importante em processamento de imagens é a definição de uma região de interesse (ROI). Entende-se como ROI a região obtida de maneira automática ou a partir de uma interação de um usuário onde o processamento estará totalmente concentrado.\n",
    "\n",
    "### Objetivos:\n",
    "1. Obter um ROI de uma imagem a partir da área selecionada pelo mouse"
   ]
  },
  {
   "cell_type": "code",
   "execution_count": null,
   "id": "adc01d50d2e49a67",
   "metadata": {},
   "outputs": [],
   "source": [
    "import cv2\n",
    "import numpy as np\n",
    "\n",
    "image = cv2.imread('images/img_1.png')\n",
    "image_to_show = np.copy(image)\n",
    "\n",
    "# Estado inicial do mouse\n",
    "cropping = False\n",
    "x_init, y_init, top_left_pt, bottom_right_pt = 0, 0, 0, 0\n",
    "\n",
    "def roi(event, x, y, flags, param):\n",
    "    global image_to_show, x_init, y_init, top_left_pt, bottom_right_pt, cropping\n",
    "\n",
    "    if event == cv2.EVENT_LBUTTONDOWN:\n",
    "        cropping = True\n",
    "        x_init, y_init = x, y\n",
    "        image_to_show = np.copy(image)\n",
    "        print(f'Ponto inicial em x {x_init}')\n",
    "        print(f'Ponto inicial em y {y_init}')\n",
    "\n",
    "    elif event == cv2.EVENT_MOUSEMOVE:\n",
    "        if cropping:\n",
    "            image_to_show = np.copy(image)\n",
    "            cv2.rectangle(image_to_show, (x_init, y_init), (x, y), (0, 255, 0), 1)\n",
    "\n",
    "    elif event == cv2.EVENT_LBUTTONUP:\n",
    "        cropping = False\n",
    "        top_left_pt, bottom_right_pt = x, y\n",
    "        print(f'Ponto superior{top_left_pt}')\n",
    "        print(f'Ponto inferior {bottom_right_pt}')\n",
    "\n",
    "\n",
    "cv2.namedWindow('image')\n",
    "cv2.setMouseCallback('image', roi)\n",
    "\n",
    "while True:\n",
    "    cv2.imshow('image', image_to_show)\n",
    "    k = cv2.waitKey(1)\n",
    "\n",
    "    if k == ord('c'):\n",
    "        if y_init > bottom_right_pt:\n",
    "            y_init, bottom_right_pt = bottom_right_pt, y_init\n",
    "\n",
    "        if x_init > top_left_pt:\n",
    "            x_init, top_left_pt = top_left_pt, x_init\n",
    "\n",
    "        if bottom_right_pt - y_init > 1 and top_left_pt - x_init > 0:\n",
    "            image = image[y_init:bottom_right_pt, x_init:top_left_pt]\n",
    "            print(image)\n",
    "            image_to_show = np.copy(image)\n",
    "\n",
    "    if k == ord('s'):\n",
    "        cv2.imshow('image', image_to_show)\n",
    "\n",
    "    if cv2.waitKey(1) == ord('q'):\n",
    "        break\n",
    "\n",
    "cv2.destroyAllWindows()\n"
   ]
  }
 ],
 "metadata": {
  "kernelspec": {
   "display_name": "Python 3",
   "language": "python",
   "name": "python3"
  },
  "language_info": {
   "codemirror_mode": {
    "name": "ipython",
    "version": 2
   },
   "file_extension": ".py",
   "mimetype": "text/x-python",
   "name": "python",
   "nbconvert_exporter": "python",
   "pygments_lexer": "ipython2"
  }
 },
 "nbformat": 4,
 "nbformat_minor": 5
}
