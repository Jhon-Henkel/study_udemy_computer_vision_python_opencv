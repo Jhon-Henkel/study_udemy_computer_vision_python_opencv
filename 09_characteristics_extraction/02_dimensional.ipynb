{
 "cells": [
  {
   "cell_type": "markdown",
   "id": "12feb1cd23cf1aad",
   "metadata": {},
   "source": [
    "## Extração de características - Dimensionais\n",
    "As características dimensionais definem informações sobre o tamanho do objeto de interesse. A área, o perímetro e o diâmetro são as três principais dessa categoria.\n",
    "\n",
    "Importando as bibliotecas e a imagem"
   ]
  },
  {
   "cell_type": "code",
   "id": "2fa2bb9ae050b8b7",
   "metadata": {},
   "source": [
    "import cv2\n",
    "import numpy as np\n",
    "\n",
    "im = cv2.imread(\"images/02.JPG\", 0)"
   ],
   "outputs": [],
   "execution_count": null
  },
  {
   "cell_type": "markdown",
   "id": "59c9653444a5394e",
   "metadata": {},
   "source": [
    "Segmentação por binarização"
   ]
  },
  {
   "cell_type": "code",
   "id": "2e61d004d4e4a09b",
   "metadata": {},
   "source": [
    "tipo = cv2.THRESH_BINARY_INV\n",
    "_, imgBin = cv2.threshold(im, 0, 255, tipo)"
   ],
   "outputs": [],
   "execution_count": null
  },
  {
   "cell_type": "markdown",
   "id": "515b2b9de9ce6f8",
   "metadata": {},
   "source": [
    "A área de um objeto de interesse é definida pelo total de pixels que o representa. E através da função cotourArea é possível obte-la.\n",
    "\n",
    "Para o uso dessa função é preciso primeiro usar outra função, a findContours. Essa função extrai de uma imagem binária os pontos que representam os contornos dos objetos segmentados.\n",
    "\n",
    "FUNÇÃO findContours(img, modo, método)\n",
    "\n",
    "Entrada:\n",
    "1. img = Imagem com a qual queremos trabalhar binária.\n",
    "2. modo = pontos extraídos da imagem serão armazenados(cv2.RETR_TREE)\n",
    "3. método = pontos da imagem binária(cv2.CHAIN_APPROX_NONE, cv2.CHAIN_APPROX_SIMPLE ).\n",
    "\n",
    "Saída:\n",
    "1. dados da imagem que queremos calcular a área.\n",
    "\n",
    "FUNÇÃO contourArea(Saida_findContours)\n",
    "\n",
    "Entrada:\n",
    "1. Saida_findContours = Objeto segmentado obtido pela função findContours\n",
    "\n",
    "Saída:\n",
    "1. Área do objeto estudado."
   ]
  },
  {
   "cell_type": "code",
   "id": "a73e09bd930aed4d",
   "metadata": {},
   "source": [
    "modo = cv2.RETR_TREE\n",
    "metodo = cv2.CHAIN_APPROX_SIMPLE\n",
    "\n",
    "contorno, hierarquia = cv2.findContours(imgBin, modo, metodo)"
   ],
   "outputs": [],
   "execution_count": null
  },
  {
   "cell_type": "markdown",
   "id": "6c595c3f6e35d0de",
   "metadata": {},
   "source": [
    "Para encontrar o perímetro de um objeto outra função é necessária. O perímetro de um objeto é definido pela soma dos pixels que representam o seu contorno.\n",
    "\n",
    "Através da função arcLength pode-se encontrar esse perímetro.\n",
    "\n",
    "FUNÇÃO arcLength(Saida_findContours, contornos)\n",
    "\n",
    "Entrada:\n",
    "1. Saida_findContours = Objeto segmentado obtido pela função findContours\n",
    "2. contornos = contorno que será obtido (TRUE = contorno fechado, FALSE = contorno fechado)\n",
    "\n",
    "Saída:\n",
    "1. Área do objeto estudado.\n",
    "\n",
    "Para ter certeza que estamos trabalhando com uma segmentação no mínimo detectável é preciso fazer uma verificação."
   ]
  },
  {
   "cell_type": "code",
   "id": "9e4104e22438139b",
   "metadata": {},
   "source": [
    "if len(contorno)>0:\n",
    "    obj = contorno[0]\n",
    "    area = cv2.contourArea(obj)\n",
    "    print(area)\n",
    "\n",
    "    perimetro = cv2.arcLength(obj, True)\n",
    "    print(perimetro)\n",
    "\n",
    "else:\n",
    "    print(\"Sem contorno encontrado\")"
   ],
   "outputs": [],
   "execution_count": null
  }
 ],
 "metadata": {
  "kernelspec": {
   "display_name": "Python 3",
   "language": "python",
   "name": "python3"
  },
  "language_info": {
   "codemirror_mode": {
    "name": "ipython",
    "version": 2
   },
   "file_extension": ".py",
   "mimetype": "text/x-python",
   "name": "python",
   "nbconvert_exporter": "python",
   "pygments_lexer": "ipython2"
  }
 },
 "nbformat": 4,
 "nbformat_minor": 5
}
