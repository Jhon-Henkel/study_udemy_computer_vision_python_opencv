{
 "cells": [
  {
   "cell_type": "markdown",
   "id": "fa81d05d9a79169a",
   "metadata": {},
   "source": [
    "## Extração de características - Aspectos\n",
    "As características de aspectos de um objet de interesse define informações sobre a sua cor. As informações extraídas pela cor é uma da características mais importantes.\n",
    "\n",
    "Uma das formas de extração de características pela cor seria através do média e o desvio padrão da mesma.\n",
    "\n",
    "Importando as bibliotecas e lendo a imagem"
   ]
  },
  {
   "cell_type": "code",
   "id": "f80888d7c2a0c21b",
   "metadata": {},
   "source": [
    "import cv2\n",
    "import numpy as np\n",
    "from matplotlib import pyplot as plt\n",
    "\n",
    "img = cv2.imread(\"images/01.jpg\", 1)\n",
    "img_gray = cv2.imread(\"images/01.jpg\", 0)\n",
    "\n",
    "cv2.imshow(\"Imagem em RGB\", img)\n",
    "cv2.imshow(\"Imagem em tons de cinza\", img_gray)\n",
    "\n",
    "cv2.waitKey(0)\n",
    "cv2.destroyAllWindows()"
   ],
   "outputs": [],
   "execution_count": null
  },
  {
   "cell_type": "markdown",
   "id": "2d1c23b9e5139a40",
   "metadata": {},
   "source": [
    "Calculo da média e do desvio padrão das imagem em RGB e tons de cinza.\n",
    "\n",
    "A função mean retorna a média de todos os canais RGB começando pelo azul, depois o ver e por último o vermelho. O quarto parâmetro é o valor do alpha da imagem, pode-se dizer que seria a transparência da imagem.\n",
    "\n",
    "A função meanStdDev calcula a média e o desvio padrão da imagem de forma independente para cada canal e os retorna através dos parâmetros de saída.\n",
    "\n",
    "Assim, os valores mean e stdev são valores escalares para imagens coloridas que dividem a imagem em canais e calculam e aplicam um limite para cada canal de forma independente.\n",
    "\n",
    "Para essa programação é usado também a função flatten. Essa função retorna uma cópia da matriz em uma dimensão (1D)."
   ]
  },
  {
   "cell_type": "code",
   "id": "102e7ff52c1cc267",
   "metadata": {},
   "source": [
    "valorMedio = cv2.mean(img)\n",
    "valorMedioGray = cv2.mean(img_gray)\n",
    "\n",
    "(mean, std) = cv2.meanStdDev(img)\n",
    "(means, stds ) = cv2.meanStdDev(img_gray)\n",
    "\n",
    "RGB = np.concatenate([(mean, std)]).flatten()\n",
    "Gray = np.concatenate([(means, stds)]).flatten()\n",
    "\n",
    "print(\"valores da media e desvio padrao RGB\")\n",
    "print(valorMedio)\n",
    "print(RGB)\n",
    "\n",
    "print(\"valores da media e desvio padrao Tons de cinza\")\n",
    "print(valorMedioGray)\n",
    "print(Gray)"
   ],
   "outputs": [],
   "execution_count": null
  }
 ],
 "metadata": {
  "kernelspec": {
   "display_name": "Python 3",
   "language": "python",
   "name": "python3"
  },
  "language_info": {
   "codemirror_mode": {
    "name": "ipython",
    "version": 2
   },
   "file_extension": ".py",
   "mimetype": "text/x-python",
   "name": "python",
   "nbconvert_exporter": "python",
   "pygments_lexer": "ipython2"
  }
 },
 "nbformat": 4,
 "nbformat_minor": 5
}
