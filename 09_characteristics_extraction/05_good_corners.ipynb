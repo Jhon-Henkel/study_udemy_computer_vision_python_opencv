{
 "cells": [
  {
   "cell_type": "markdown",
   "metadata": {},
   "source": [
    "# Extração de características - Detectção de cantos\n",
    "\n",
    "### Teoria\n",
    "\n",
    "No último capítulo, vimos o Harris Corner Detector. Mais tarde, em 1994, J. Shi e C. Tomasi fizeram uma pequena modificação em seu artigo Good Features to Track, que mostra melhores resultados em comparação com o Harris Corner Detector. A função de pontuação no Harris Corner Detector foi dada por:\n",
    "\n",
    "$R = \\lambda_1 \\lambda_2 - k (\\lambda_1 + \\lambda_2)^2$\n",
    "\n",
    "Em vez disso, Shi-Tomasi propôs:\n",
    "\n",
    "$R = min(\\lambda_1, \\lambda_2)$\n",
    "\n",
    "Se for um valor maior que um limite, será considerado como um canto. Se nós plotamos isso em $\\lambda_1 - \\lambda_2$ espaço como fizemos em Harris Corner Detector, obtemos uma imagem como abaixo: \n",
    "\n",
    "![alt text](https://docs.opencv.org/3.0-beta/_images/shitomasi_space.png \"Logo Title Text 1\")\n",
    "\n",
    "[logo]: https://docs.opencv.org/3.0-beta/_images/shitomasi_space.png \"Logo Title Text 2\"\n",
    "\n",
    "\n",
    "Da figura, você pode ver isso apenas quando $\\lambda_1$ e $\\lambda_2$ estão acima de um valor mínimo, $\\lambda_{min}$, é considerado como um canto (região verde).\n",
    "\n",
    "Importando as bibliotecas e lendo a imagem em tons de cinza"
   ]
  },
  {
   "cell_type": "code",
   "execution_count": null,
   "metadata": {},
   "outputs": [],
   "source": [
    "import cv2\n",
    "import numpy as np\n",
    "from matplotlib import pyplot as plt\n",
    "\n",
    "img = cv2.imread('images/04.jpg')\n",
    "gray = cv2.cvtColor(img,cv2.COLOR_BGR2GRAY)"
   ]
  },
  {
   "cell_type": "markdown",
   "metadata": {},
   "source": [
    "FUNÇÃO **cv.goodFeaturesToTrack(img, n, qual, k)**\n",
    "\n",
    "Entrada: \n",
    "1. img = Imagem de entrada em tons de cinza\n",
    "2. n = número de cantos que deseja-se encontrar.\n",
    "3. qual = nível de qualidade (valor entre 0 e 1).\n",
    "4. k = distância euclidiana mínima entre os cantos detectados.\n",
    "            \n",
    "Saída: \n",
    "1Pontos de detecção de canto da imagem.\n"
   ]
  },
  {
   "cell_type": "code",
   "execution_count": null,
   "metadata": {},
   "outputs": [],
   "source": [
    "corners = cv2.goodFeaturesToTrack(gray, 10, 0.05, 0.25)\n",
    "\n",
    "for item in corners:\n",
    "    x,y = item[0]\n",
    "    cv2.circle(img, (int(x), int(y)), 4, (0, 0, 255), -1)\n",
    "    \n",
    "fig = plt.figure(figsize=(10,8))\n",
    "plt.imshow(img)\n",
    "plt.show()"
   ]
  },
  {
   "cell_type": "code",
   "execution_count": null,
   "metadata": {},
   "outputs": [],
   "source": []
  }
 ],
 "metadata": {
  "kernelspec": {
   "display_name": "Python 3",
   "language": "python",
   "name": "python3"
  },
  "language_info": {
   "codemirror_mode": {
    "name": "ipython",
    "version": 3
   },
   "file_extension": ".py",
   "mimetype": "text/x-python",
   "name": "python",
   "nbconvert_exporter": "python",
   "pygments_lexer": "ipython3"
  }
 },
 "nbformat": 4,
 "nbformat_minor": 2
}
