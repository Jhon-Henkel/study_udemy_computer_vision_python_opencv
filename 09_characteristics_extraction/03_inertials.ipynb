{
 "cells": [
  {
   "metadata": {},
   "cell_type": "markdown",
   "source": [
    "## Extração de características Inerciais e Hu\n",
    "As características inerciais definem informações sobre os momentos, o centro geométrico e as formas geométricas envolventes de um objeto de interesse.\n",
    "\n",
    "É possível através dessas características reconhecer objetos mesmo que tenham sofrido alterações na escala, rotação ou translação.\n",
    "\n",
    "Importando a biblioteca e lendo a imagem"
   ],
   "id": "d8b9c872db6dce7b"
  },
  {
   "metadata": {},
   "cell_type": "code",
   "source": [
    "import cv2\n",
    "\n",
    "img = cv2.imread(\"images/03.JPG\",0)"
   ],
   "id": "3370be68f454670c",
   "outputs": [],
   "execution_count": null
  },
  {
   "metadata": {},
   "cell_type": "markdown",
   "source": [
    "### Momentos de uma imagem\n",
    "Os momentos de uma imagem, também conhecido como momentos estatísticos, é um dos principais métodos para extração de características. São obtidos por funções matemáticas, com base estatísticas, que fornecem valores que representam um determinado objeto.\n",
    "\n",
    "Através de imagens binárias podemos calcular esses momentos. A função moments extrais essas características retornando 24 momentos que caracterizam a imagem."
   ],
   "id": "ee32d733bc1b7543"
  },
  {
   "metadata": {},
   "cell_type": "code",
   "source": [
    "momentos = cv2.moments(img)\n",
    "\n",
    "print(len(momentos))\n",
    "print(momentos)"
   ],
   "id": "1fe3af46b7d0b402",
   "outputs": [],
   "execution_count": null
  },
  {
   "metadata": {},
   "cell_type": "code",
   "source": [
    "area = momentos['m00']\n",
    "print(area)\n",
    "print(\"\\n\")\n",
    "\n",
    "X = momentos['m10']/area\n",
    "Y = momentos['m01']/area\n",
    "\n",
    "print(\"medias\")\n",
    "print(X)\n",
    "print(Y)\n",
    "\n",
    "cx = int(momentos['m10']/momentos['m00'])\n",
    "cy = int(momentos['m01']/momentos['m00'])\n",
    "\n",
    "print(\"centroide\")\n",
    "print(cx)\n",
    "print(cy)"
   ],
   "id": "857325cca74cc688",
   "outputs": [],
   "execution_count": null
  }
 ],
 "metadata": {
  "kernelspec": {
   "display_name": "Python 3",
   "language": "python",
   "name": "python3"
  },
  "language_info": {
   "codemirror_mode": {
    "name": "ipython",
    "version": 2
   },
   "file_extension": ".py",
   "mimetype": "text/x-python",
   "name": "python",
   "nbconvert_exporter": "python",
   "pygments_lexer": "ipython2",
   "version": "2.7.6"
  }
 },
 "nbformat": 4,
 "nbformat_minor": 5
}
