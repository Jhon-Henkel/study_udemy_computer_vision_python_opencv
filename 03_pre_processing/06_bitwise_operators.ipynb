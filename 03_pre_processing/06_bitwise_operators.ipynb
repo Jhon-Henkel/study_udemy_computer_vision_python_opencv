{
 "cells": [
  {
   "cell_type": "markdown",
   "id": "5962a310f9042daf",
   "metadata": {},
   "source": [
    "### Operações Bitwise\n",
    "\n",
    "Operadores:\n",
    "- AND\n",
    "- OR\n",
    "- NOT\n",
    "- XOR"
   ]
  },
  {
   "cell_type": "code",
   "execution_count": null,
   "id": "23d33177a8333fe9",
   "metadata": {},
   "outputs": [],
   "source": [
    "import cv2\n",
    "import numpy as np\n",
    "import matplotlib.pyplot as plt\n",
    "\n",
    "# Criando a imagem 1 - Retângulo\n",
    "img1 = np.zeros((300, 300), dtype=\"uint8\")\n",
    "cv2.rectangle(img1, (100, 100), (250, 250), 255, -1)\n",
    "\n",
    "# Criando a imagem 2 - Circulo\n",
    "img2 = np.zeros((300, 300), dtype=\"uint8\")\n",
    "cv2.circle(img2, (150, 150), 90, 255, -1)\n",
    "\n",
    "# Plot da imagem\n",
    "plt.figure(figsize=(10, 8))\n",
    "plt.subplot(1, 2, 1)\n",
    "plt.imshow(img1, cmap='gray')\n",
    "\n",
    "plt.subplot(1, 2, 2)\n",
    "plt.imshow(img2, cmap='gray')\n",
    "plt.show()"
   ]
  },
  {
   "cell_type": "markdown",
   "id": "8973a21e41dfb2fa",
   "metadata": {},
   "source": [
    "### Operação AND"
   ]
  },
  {
   "cell_type": "code",
   "execution_count": null,
   "id": "c294a61037ff5d9a",
   "metadata": {},
   "outputs": [],
   "source": [
    "rect_and_circle = cv2.bitwise_and(img1, img2)\n",
    "\n",
    "plt.figure(figsize=(10, 8))\n",
    "plt.imshow(rect_and_circle, cmap='gray')\n",
    "plt.show()"
   ]
  },
  {
   "cell_type": "markdown",
   "id": "2377d800e47597b3",
   "metadata": {},
   "source": [
    "### Operação OR"
   ]
  },
  {
   "cell_type": "code",
   "execution_count": null,
   "id": "e5aeba02458cadd9",
   "metadata": {},
   "outputs": [],
   "source": [
    "rect_or_circle = cv2.bitwise_or(img1, img2)\n",
    "\n",
    "plt.figure(figsize=(10, 8))\n",
    "plt.imshow(rect_or_circle, cmap='gray')\n",
    "plt.show()"
   ]
  },
  {
   "cell_type": "markdown",
   "id": "bdcffab310e9fe97",
   "metadata": {},
   "source": [
    "### Operação XOR"
   ]
  },
  {
   "cell_type": "code",
   "execution_count": null,
   "id": "44390c8990152f56",
   "metadata": {},
   "outputs": [],
   "source": [
    "rect_xor_circle = cv2.bitwise_xor(img1, img2)\n",
    "\n",
    "plt.figure(figsize=(10, 8))\n",
    "plt.imshow(rect_xor_circle, cmap='gray')\n",
    "plt.show()"
   ]
  },
  {
   "cell_type": "markdown",
   "id": "401c8b17e57eb1a4",
   "metadata": {},
   "source": [
    "### Operação NOT"
   ]
  },
  {
   "cell_type": "code",
   "execution_count": null,
   "id": "b5bcaf423101c9fc",
   "metadata": {},
   "outputs": [],
   "source": [
    "rect_not_circle = cv2.bitwise_not(img1, img2)\n",
    "\n",
    "plt.figure(figsize=(10, 8))\n",
    "plt.imshow(rect_not_circle, cmap='gray')\n",
    "plt.show()"
   ]
  }
 ],
 "metadata": {
  "kernelspec": {
   "display_name": "Python 3",
   "language": "python",
   "name": "python3"
  },
  "language_info": {
   "codemirror_mode": {
    "name": "ipython",
    "version": 2
   },
   "file_extension": ".py",
   "mimetype": "text/x-python",
   "name": "python",
   "nbconvert_exporter": "python",
   "pygments_lexer": "ipython2"
  }
 },
 "nbformat": 4,
 "nbformat_minor": 5
}
