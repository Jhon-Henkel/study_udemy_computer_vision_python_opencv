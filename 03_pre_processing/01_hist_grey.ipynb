{
 "cells": [
  {
   "cell_type": "markdown",
   "id": "980e40a5f86df19e",
   "metadata": {},
   "source": [
    "### Histogramas da imagem\n"
   ]
  },
  {
   "cell_type": "markdown",
   "id": "54252e5e9d57e594",
   "metadata": {},
   "source": [
    "O histograma de uma imagem é a distribuição da frequência dos níveis de cinza em relação ao número de amostras. Essa distribuição nos fonece informaçõe sobre a qualidade da imagem, principalmente no que diz respeito à intensidade luminosa e contraste\n",
    "\n",
    "Importando as bibliotecas"
   ]
  },
  {
   "cell_type": "code",
   "execution_count": null,
   "id": "d17298b5feb2bd58",
   "metadata": {},
   "outputs": [],
   "source": [
    "import cv2 as cv\n",
    "import numpy as np\n",
    "from matplotlib import pyplot as plt\n",
    "%matplotlib inline"
   ]
  },
  {
   "cell_type": "markdown",
   "id": "7b20536f0c867e75",
   "metadata": {},
   "source": [
    "Leitura da Imagem"
   ]
  },
  {
   "cell_type": "code",
   "execution_count": null,
   "id": "6a5607a58adb0ba",
   "metadata": {},
   "outputs": [],
   "source": [
    "img = cv.imread(\"images/01_grey.jpg\")"
   ]
  },
  {
   "cell_type": "markdown",
   "id": "f67c6d71e44b2b9e",
   "metadata": {},
   "source": [
    "Mostrar a imagem"
   ]
  },
  {
   "cell_type": "code",
   "execution_count": null,
   "id": "ecca14b972bfeef",
   "metadata": {},
   "outputs": [],
   "source": [
    "plt.imshow(img)"
   ]
  },
  {
   "cell_type": "markdown",
   "id": "7c669ddcd0fef2cb",
   "metadata": {},
   "source": [
    "### Função hist\n",
    "- FUNÇÃO HIST(img, Num1, Intervalo)\n",
    "- Entrada:\n",
    "    1. Img = Imagem com a qual queremos trabalhar.\n",
    "    2. Num1 = Número de elementos distintos que podem ser representados.\n",
    "    3. Intervalo = Intervalo entre os elementos.\n",
    "- Saída: Gráfico representando o histograma da imagem\n",
    "\n",
    "### Função ravel\n",
    "- Função RAVEL(array)\n",
    "- Entrada:\n",
    "    1. Img = Matriz de entrada, no caso a imagem. Os elementos em um são lidos na ordem especificada por ordem e empacotados como uma matriz 1-D.\n",
    "- Saída: retorna uma matriz plana contígua (matriz 1D com todos os elementos da matriz de entrada e com o mesmo tipo que ela)."
   ]
  },
  {
   "cell_type": "code",
   "execution_count": null,
   "id": "5ccc5fee9e761a4",
   "metadata": {},
   "outputs": [],
   "source": [
    "plt.hist(img.ravel(), bins=256, range=(0, 256))\n",
    "plt.show()"
   ]
  }
 ],
 "metadata": {
  "kernelspec": {
   "display_name": "Python 3",
   "language": "python",
   "name": "python3"
  },
  "language_info": {
   "codemirror_mode": {
    "name": "ipython",
    "version": 2
   },
   "file_extension": ".py",
   "mimetype": "text/x-python",
   "name": "python",
   "nbconvert_exporter": "python",
   "pygments_lexer": "ipython2"
  }
 },
 "nbformat": 4,
 "nbformat_minor": 5
}
