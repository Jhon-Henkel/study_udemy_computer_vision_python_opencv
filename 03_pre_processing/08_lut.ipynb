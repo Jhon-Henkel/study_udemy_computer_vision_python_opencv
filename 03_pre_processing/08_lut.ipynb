{
 "cells": [
  {
   "cell_type": "code",
   "execution_count": null,
   "id": "initial_id",
   "metadata": {},
   "outputs": [],
   "source": [
    "import cv2\n",
    "import numpy as np\n",
    "import matplotlib.pyplot as plt"
   ]
  },
  {
   "cell_type": "code",
   "execution_count": null,
   "id": "85b0eb46ce5afc62",
   "metadata": {},
   "outputs": [],
   "source": [
    "image = cv2.imread('images/08.jpg')\n",
    "\n",
    "\n",
    "def get_gamma(gamma):\n",
    "    lut = np.arange(0, 256) ** gamma\n",
    "\n",
    "    lut = ((lut - lut.min()) / (lut.max() - lut.min())) * 255\n",
    "\n",
    "    lut = lut.astype('uint8')\n",
    "\n",
    "    return lut"
   ]
  },
  {
   "cell_type": "code",
   "execution_count": null,
   "id": "3fa5bf426065c412",
   "metadata": {},
   "outputs": [],
   "source": [
    "img_tons_claros = cv2.LUT(image, get_gamma(0.3))\n",
    "img_tons_escuros = cv2.LUT(image, get_gamma(3))"
   ]
  },
  {
   "cell_type": "code",
   "execution_count": null,
   "id": "96ac141716f67e63",
   "metadata": {},
   "outputs": [],
   "source": [
    "plt.figure(figsize=(20,10))\n",
    "plt.subplot(1,3,1)\n",
    "plt.title('Imagem Original')\n",
    "plt.imshow(image)\n",
    "plt.subplot(1,3,2)\n",
    "plt.title('Imagem Tons mais claros')\n",
    "plt.imshow(img_tons_claros)\n",
    "plt.subplot(1,3,3)\n",
    "plt.title('Imagem Tons mais escuros')\n",
    "plt.imshow(img_tons_escuros)"
   ]
  }
 ],
 "metadata": {
  "kernelspec": {
   "display_name": "Python 3",
   "language": "python",
   "name": "python3"
  },
  "language_info": {
   "codemirror_mode": {
    "name": "ipython",
    "version": 2
   },
   "file_extension": ".py",
   "mimetype": "text/x-python",
   "name": "python",
   "nbconvert_exporter": "python",
   "pygments_lexer": "ipython2"
  }
 },
 "nbformat": 4,
 "nbformat_minor": 5
}
