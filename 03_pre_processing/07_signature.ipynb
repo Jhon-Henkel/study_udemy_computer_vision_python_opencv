{
 "cells": [
  {
   "cell_type": "markdown",
   "id": "36b6302217f5b946",
   "metadata": {},
   "source": [
    "### Assinatura\n",
    "\n",
    "Imagine que você tenha que anexar uma assinatura virtual e uma imagem. O objetivo dessa aula é mostrar uma forma simples de usar operações bit a bit para automatizar esse trabalho."
   ]
  },
  {
   "cell_type": "code",
   "execution_count": null,
   "id": "cd23306d1d048c4b",
   "metadata": {},
   "outputs": [],
   "source": [
    "import os\n",
    "from glob import glob\n",
    "import cv2\n",
    "import matplotlib.pyplot as plt\n",
    "\n",
    "path = os.getcwd()\n",
    "img = cv2.imread(path + r'\\images\\07_document_example.png', cv2.IMREAD_UNCHANGED)\n",
    "\n",
    "# Fazer a cópia do pdf-imagem\n",
    "img1 = img.copy()\n",
    "\n",
    "# ler a assinatura\n",
    "img2 = cv2.imread(path + r'\\images\\07_signature_example.png')\n",
    "\n",
    "# Plot da imagem\n",
    "plt.figure(figsize=(10,8))\n",
    "plt.subplot(1,2,1)\n",
    "plt.imshow(img, cmap='gray')\n",
    "plt.subplot(1,2,2)\n",
    "plt.imshow(img2, cmap='gray')\n",
    "plt.show()"
   ]
  },
  {
   "cell_type": "code",
   "execution_count": null,
   "id": "e224b70e13638226",
   "metadata": {},
   "outputs": [],
   "source": [
    "# Posição da assinatura. No caso no top-left\n",
    "rows,cols,channels = img2.shape\n",
    "print(f\"Assinatura: {rows} pixels de altura e {cols} de largura\")\n",
    "\n",
    "# Determinar o ROI que a assinatura irá ficar\n",
    "roi = img1[100:rows+100, 100:cols+100]"
   ]
  },
  {
   "cell_type": "code",
   "execution_count": null,
   "id": "b4a02ec138aa89f6",
   "metadata": {},
   "outputs": [],
   "source": [
    "# Processamento para inserção da assinatura\n",
    "img2gray = cv2.cvtColor(img2,cv2.COLOR_BGR2GRAY)\n",
    "ret, mask = cv2.threshold(img2gray, 0, 255, cv2.THRESH_BINARY_INV)\n",
    "\n",
    "# Uso do bitwise NOT para inverter os pixels\n",
    "mask_inv = cv2.bitwise_not(mask)\n",
    "plt.figure(figsize=(10,8))\n",
    "plt.subplot(1,2,1)\n",
    "plt.imshow(mask, cmap='gray')\n",
    "plt.title('Máscara assinatura invertida')\n",
    "plt.subplot(1,2,2)\n",
    "plt.imshow(mask_inv, cmap='gray')\n",
    "plt.title('Bitwise - NOT')\n",
    "plt.show()"
   ]
  },
  {
   "cell_type": "code",
   "execution_count": null,
   "id": "b8126963b09b72b0",
   "metadata": {},
   "outputs": [],
   "source": [
    "# Uso do bitwise AND para pegar os pixels em comum das máscaras criadas\n",
    "img1_bg = cv2.bitwise_and(roi, roi, mask = mask_inv)\n",
    "plt.figure(figsize=(16,8))\n",
    "plt.imshow(img1_bg)\n",
    "plt.show()"
   ]
  },
  {
   "cell_type": "code",
   "execution_count": null,
   "id": "5d869acc354ad0c2",
   "metadata": {},
   "outputs": [],
   "source": [
    "# Apenas a região da assinatura da imagem da assinatura\n",
    "img2_fg = cv2.bitwise_and(img2,img2,mask = mask)\n",
    "\n",
    "\n",
    "# Coloque a assinatura no ROI e modifique a imagem principal\n",
    "dst1 = cv2.add(img1_bg,img2_fg)\n",
    "img1[2000:rows+2000, 500:cols+500 ] = dst1\n",
    "\n",
    "plt.figure(figsize=(20,10))\n",
    "plt.imshow(img1)\n",
    "plt.show()"
   ]
  }
 ],
 "metadata": {
  "kernelspec": {
   "display_name": "Python 3",
   "language": "python",
   "name": "python3"
  },
  "language_info": {
   "codemirror_mode": {
    "name": "ipython",
    "version": 2
   },
   "file_extension": ".py",
   "mimetype": "text/x-python",
   "name": "python",
   "nbconvert_exporter": "python",
   "pygments_lexer": "ipython2"
  }
 },
 "nbformat": 4,
 "nbformat_minor": 5
}
