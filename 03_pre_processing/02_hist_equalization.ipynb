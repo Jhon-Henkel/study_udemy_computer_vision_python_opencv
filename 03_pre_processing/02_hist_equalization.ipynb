{
 "cells": [
  {
   "cell_type": "markdown",
   "id": "f6ce5ac2fa1181b5",
   "metadata": {},
   "source": [
    "### Equalização do Histograma\n",
    "O objetivo da equalização do histograma é justamente modificar a tonalida dos pixels da imagem, com intuito de dedistribuir o histograma. Isso resultará em uma imagem mais nítida contendo os pixels com tonalidades de cinza variando de 0 a 255.\n",
    "\n",
    "Importando as bibliotecas"
   ]
  },
  {
   "cell_type": "code",
   "execution_count": null,
   "id": "45f571038ec60f15",
   "metadata": {},
   "outputs": [],
   "source": [
    "import cv2\n",
    "import numpy as np\n",
    "from matplotlib import pyplot as plt\n",
    "%matplotlib inline"
   ]
  },
  {
   "cell_type": "markdown",
   "id": "34af02a12b4d140c",
   "metadata": {},
   "source": [
    "Lendo a imagem.\n",
    "\n",
    "A função imread() possui um segundo argumento que especifica como a imagem deve ser lida.\n",
    "\n",
    "- cv2.IMREAD_COLOR: Le a imagem como colorida.\n",
    "- cv2.IMREAD_GRAYSCALE: Le a imagem em escala de cinza.\n",
    "- cv2.IMREAD_UNCHANGED: Le incluindo o canal alfa.\n",
    "\n",
    "Pode-se simplesmente passar os argumentos usando números inteiros 1, 0 ou -1 respectivamente."
   ]
  },
  {
   "cell_type": "code",
   "execution_count": null,
   "id": "c17a6d6aeb1ed86e",
   "metadata": {},
   "outputs": [],
   "source": [
    "img = cv2.imread(\"images/02_grey.jpg\", 0)"
   ]
  },
  {
   "cell_type": "markdown",
   "id": "6291d4a682d484ec",
   "metadata": {},
   "source": [
    "Função **equalizeHist(img)**\n",
    "\n",
    "Entrada: 1. Imagem que queremos trabalhar.\n",
    "\n",
    "Saída: 1. A imagem com histograma equalizado."
   ]
  },
  {
   "cell_type": "code",
   "execution_count": null,
   "id": "2ad5e80b5a55cbfe",
   "metadata": {},
   "outputs": [],
   "source": [
    "imgEqualizada = cv2.equalizeHist(img)"
   ]
  },
  {
   "cell_type": "code",
   "execution_count": null,
   "id": "9d4d5c83554c38a2",
   "metadata": {},
   "outputs": [],
   "source": [
    "fig = plt.figure(figsize=(20,5))\n",
    "ax1 = fig.add_subplot(121)\n",
    "plt.imshow(img, cmap=plt.cm.gray)\n",
    "\n",
    "ax2 = fig.add_subplot(122)\n",
    "plt.imshow(imgEqualizada, cmap=plt.cm.gray)\n",
    "plt.show()"
   ]
  },
  {
   "cell_type": "code",
   "execution_count": null,
   "id": "fc14aae2da1b283c",
   "metadata": {},
   "outputs": [],
   "source": [
    "fig = plt.figure(figsize=(20,5))\n",
    "ax1 = fig.add_subplot(121)\n",
    "plt.hist(img.ravel(), bins=256, range=(0,256))\n",
    "\n",
    "ax2 = fig.add_subplot(122)\n",
    "plt.hist(imgEqualizada.ravel(), bins=256, range=(0,256))\n",
    "plt.show()"
   ]
  },
  {
   "cell_type": "markdown",
   "id": "bba1289a755549df",
   "metadata": {},
   "source": [
    "### Desafio:\n",
    "\n",
    "Fica como desafio, você(aluno, deve fazer os histogramas referentes aos canais de uma imagem colorida (RGB)"
   ]
  },
  {
   "cell_type": "code",
   "execution_count": null,
   "id": "d825d8e614a22788",
   "metadata": {},
   "outputs": [],
   "source": [
    "import cv2\n",
    "import numpy as np\n",
    "from matplotlib import pyplot as plt\n",
    "%matplotlib inline\n",
    "\n",
    "img = cv2.imread(\"images/01_color.jpg\", 1)\n",
    "\n",
    "# Separar os canais de cor (B, G, R)\n",
    "b, g, r = cv2.split(img)\n",
    "\n",
    "# Equalizar cada canal separadamente\n",
    "b_equalizado = cv2.equalizeHist(b)\n",
    "g_equalizado = cv2.equalizeHist(g)\n",
    "r_equalizado = cv2.equalizeHist(r)\n",
    "\n",
    "# Recombinar os canais\n",
    "img_equalizada_rgb = cv2.merge((b_equalizado, g_equalizado, r_equalizado))\n",
    "\n",
    "# Exibir\n",
    "plt.figure(figsize=(12, 6))\n",
    "plt.subplot(1, 2, 1), plt.imshow(cv2.cvtColor(img, cv2.COLOR_BGR2RGB)), plt.title(\"Imagem Original\")\n",
    "plt.subplot(1, 2, 2), plt.imshow(cv2.cvtColor(img_equalizada_rgb, cv2.COLOR_BGR2RGB)), plt.title(\"Imagem Equalizada (RGB)\")\n",
    "plt.show()"
   ]
  },
  {
   "cell_type": "code",
   "execution_count": null,
   "id": "1301f48fc25bf7ad",
   "metadata": {},
   "outputs": [],
   "source": [
    "fig = plt.figure(figsize=(20,5))\n",
    "\n",
    "ax1 = fig.add_subplot(131)\n",
    "ax1.hist(b.ravel(), bins=256, range=(0,256))\n",
    "plt.title(\"Histograma co canal azul\")\n",
    "\n",
    "ax2 = fig.add_subplot(132)\n",
    "ax2.hist(g.ravel(), bins=256, range=(0,256))\n",
    "plt.title(\"Histograma co canal verde\")\n",
    "\n",
    "ax3 = fig.add_subplot(133)\n",
    "ax3.hist(r.ravel(), bins=256, range=(0,256))\n",
    "plt.title(\"Histograma co canal vermelho\")\n",
    "\n",
    "plt.show()"
   ]
  }
 ],
 "metadata": {
  "kernelspec": {
   "display_name": "Python 3",
   "language": "python",
   "name": "python3"
  },
  "language_info": {
   "codemirror_mode": {
    "name": "ipython",
    "version": 2
   },
   "file_extension": ".py",
   "mimetype": "text/x-python",
   "name": "python",
   "nbconvert_exporter": "python",
   "pygments_lexer": "ipython2"
  }
 },
 "nbformat": 4,
 "nbformat_minor": 5
}
