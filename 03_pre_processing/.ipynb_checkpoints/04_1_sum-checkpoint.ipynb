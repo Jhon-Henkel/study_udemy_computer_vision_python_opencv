{
 "cells": [
  {
   "cell_type": "markdown",
   "id": "af5d1574d16d57b5",
   "metadata": {},
   "source": [
    "### Operação de adição\n",
    "A operação de adição consiste em somar os valores dos pixels de uma imagem com outra. O resultado é uma nova imagem\n",
    "\n",
    "Bibliotecas"
   ]
  },
  {
   "cell_type": "code",
   "execution_count": null,
   "id": "51bf7212a5fafaca",
   "metadata": {},
   "outputs": [],
   "source": [
    "import cv2 as cv\n",
    "from matplotlib import pyplot as plt"
   ]
  },
  {
   "cell_type": "markdown",
   "id": "b58738f4550630a5",
   "metadata": {},
   "source": [
    "Lendo as imagens"
   ]
  },
  {
   "cell_type": "code",
   "execution_count": null,
   "id": "f9e8e44022a51f33",
   "metadata": {},
   "outputs": [],
   "source": [
    "img1 = cv.imread('images/04_2_color.png', 0)"
   ]
  },
  {
   "cell_type": "code",
   "execution_count": null,
   "id": "471395e3c6a5464f",
   "metadata": {},
   "outputs": [],
   "source": [
    "img2 = cv.imread('images/04_1_color.png', 0)"
   ]
  },
  {
   "cell_type": "markdown",
   "id": "1b92f90620188482",
   "metadata": {},
   "source": [
    "FUNÇÃO **add(imag1, imag2)**\n",
    "\n",
    "Entrada = imagens 1 e 2.\n",
    "\n",
    "Saída = Matriz com os valores dos pixels somados."
   ]
  },
  {
   "cell_type": "code",
   "execution_count": null,
   "id": "bdf68fac01633e2e",
   "metadata": {},
   "outputs": [],
   "source": [
    "imgsomada = cv.add(img1, img2)"
   ]
  },
  {
   "cell_type": "code",
   "execution_count": null,
   "id": "d6163e6e803dc66b",
   "metadata": {},
   "outputs": [],
   "source": [
    "fig = plt.figure(figsize=(20,5))\n",
    "plt.imshow(imgsomada, cmap=plt.cm.gray)"
   ]
  }
 ],
 "metadata": {
  "kernelspec": {
   "display_name": "Python 3",
   "language": "python",
   "name": "python3"
  },
  "language_info": {
   "codemirror_mode": {
    "name": "ipython",
    "version": 2
   },
   "file_extension": ".py",
   "mimetype": "text/x-python",
   "name": "python",
   "nbconvert_exporter": "python",
   "pygments_lexer": "ipython2"
  }
 },
 "nbformat": 4,
 "nbformat_minor": 5
}
