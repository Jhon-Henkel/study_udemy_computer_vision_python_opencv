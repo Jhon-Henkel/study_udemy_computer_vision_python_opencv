{
 "cells": [
  {
   "cell_type": "markdown",
   "id": "bc91052198814b1b",
   "metadata": {},
   "source": [
    "### Rotação\n",
    "A operação de rotação consiste em girar a imagem em um ângulo predeterminado.\n",
    "\n",
    "Importando as bibliotecas"
   ]
  },
  {
   "cell_type": "code",
   "execution_count": null,
   "id": "2476bb3e9dbb59fc",
   "metadata": {},
   "outputs": [],
   "source": [
    "import cv2 as cv\n",
    "import numpy as np\n",
    "from matplotlib import pyplot as plt"
   ]
  },
  {
   "cell_type": "markdown",
   "id": "f1905b6e4d5bb729",
   "metadata": {},
   "source": [
    "Lendo a imagem"
   ]
  },
  {
   "cell_type": "code",
   "execution_count": null,
   "id": "c15b6de2d139d2b0",
   "metadata": {},
   "outputs": [],
   "source": [
    "imgOriginal = cv.imread(\"images/02_grey.jpg\", 0)"
   ]
  },
  {
   "cell_type": "markdown",
   "id": "705a9ce3e3599eb6",
   "metadata": {},
   "source": [
    "FUNÇÃO **getRotationMatrix2D(centro, ângulo, escala)**\n",
    "\n",
    "Entrada\n",
    "1. Centro= centro da imagem (total de colunas/2 e total de linhas/2).\n",
    "2. Ângulo= ângulo que deseja rotacionar a imagem.\n",
    "3. Escala= Fator de escala (default = 1).\n",
    "\n",
    "Saída = Matriz de rotação.\n",
    "\n",
    "FUNÇÃO **warpAffine(src, matriz, dsize)**\n",
    "\n",
    "Entrada\n",
    "1. Src = matriz referente a imagem original.\n",
    "2. Matriz = matriz de rotação.\n",
    "3. Dsize = Tamanho da imagem rotacionada.\n",
    "\n",
    "Saída = Imagem rotacionada."
   ]
  },
  {
   "cell_type": "code",
   "execution_count": null,
   "id": "c3b1b737d6fae71",
   "metadata": {},
   "outputs": [],
   "source": [
    "totalLinhas, totalColunas = imgOriginal.shape\n",
    "print(totalLinhas)\n",
    "print(totalColunas)"
   ]
  },
  {
   "cell_type": "code",
   "execution_count": null,
   "id": "d2880323fb46696d",
   "metadata": {},
   "outputs": [],
   "source": [
    "mat = cv.getRotationMatrix2D((totalLinhas/2, totalColunas/2), 45, 1)"
   ]
  },
  {
   "cell_type": "code",
   "execution_count": null,
   "id": "6cc0e94a2b1737bb",
   "metadata": {},
   "outputs": [],
   "source": [
    "imgRotacionada = cv.warpAffine(imgOriginal, mat, (totalColunas, totalLinhas))"
   ]
  },
  {
   "cell_type": "code",
   "execution_count": null,
   "id": "57d1ea5eb2c29de8",
   "metadata": {},
   "outputs": [],
   "source": [
    "fig = plt.figure(figsize=(10,8))\n",
    "plt.imshow(imgRotacionada, cmap = plt.cm.gray)"
   ]
  }
 ],
 "metadata": {
  "kernelspec": {
   "display_name": "Python 3",
   "language": "python",
   "name": "python3"
  },
  "language_info": {
   "codemirror_mode": {
    "name": "ipython",
    "version": 2
   },
   "file_extension": ".py",
   "mimetype": "text/x-python",
   "name": "python",
   "nbconvert_exporter": "python",
   "pygments_lexer": "ipython2"
  }
 },
 "nbformat": 4,
 "nbformat_minor": 5
}
