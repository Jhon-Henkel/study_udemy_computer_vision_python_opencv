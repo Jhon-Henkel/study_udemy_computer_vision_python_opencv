{
 "cells": [
  {
   "cell_type": "markdown",
   "id": "e11124e36255b3a5",
   "metadata": {},
   "source": [
    "### Comparação de Histograma"
   ]
  },
  {
   "cell_type": "code",
   "execution_count": null,
   "id": "94a23539aa2646da",
   "metadata": {},
   "outputs": [],
   "source": [
    "import numpy as np\n",
    "import glob\n",
    "import cv2\n",
    "import os\n",
    "import pandas as pd\n",
    "\n",
    "# Inicialize o dicionário de índice para armazenar o nome da imagem, os histogramas correspondentes e o dicionário de imagens para armazenar as próprias imagens\n",
    "\n",
    "index = {}  # Armazenar o nome da imagem e os histogramas\n",
    "images = {} # Armazenar as próprias imagens\n",
    "\n",
    "# Pegar as imagens na pasta\n",
    "for imagePath in glob.glob(os.getcwd() + \"\\\\images\\\\hist_compare\\\\*.jpg\"):\n",
    "\n",
    "    # Extrair o nome do arquivo da imagem (considerado único) e carregar a imagem, atualizando o dicionário de imagens\n",
    "    filename = imagePath[imagePath.rfind(\"/\") + 1:]\n",
    "    image = cv2.imread(imagePath)\n",
    "    images[filename] = cv2.cvtColor(image, cv2.COLOR_BGR2RGB)\n",
    "\n",
    "    # Extrair um histograma de cores RGB da imagem, usando 8 caixas por canal, normalizar e atualizar o índice\n",
    "    hist = cv2.calcHist([image], [1,2], None, [8, 8],[0, 256, 0, 256])\n",
    "    hist = cv2.normalize(hist, hist).flatten()\n",
    "    index[filename] = hist"
   ]
  },
  {
   "cell_type": "code",
   "execution_count": null,
   "id": "c2b88d4154d814dc",
   "metadata": {},
   "outputs": [],
   "source": [
    "# Verificar o calculo do histograma\n",
    "index"
   ]
  },
  {
   "cell_type": "markdown",
   "id": "d2d6b6cf29bcfa2b",
   "metadata": {},
   "source": [
    "### Métodos para comparar histogramas\n",
    "\n",
    "Função: **cv2.compareHist(H1, H2, método)**\n",
    "1. **H1** = primeiro histograma a ser comparado\n",
    "2. **H2** = segundo histograma a ser comparado\n",
    "3. **método** = uma flag que indica qual método de comparação deve ser executado. A flag pode ser de qualquer um dos seguintes métodos:\n",
    "    - **cv2.HISTCMP_CORREL**: calcula a correlação entre os dois histogramas\n",
    "    - **cv2.HISTCMP_CHISQR**: calcula a distância de chi-quadrado entre os histogramas\n",
    "    - **cv2.HISTCMP_INTERSECT**: calcula a interseção entre os histogramas\n",
    "    - **cv2.HISTCMP_BHATTACHARYYA**: distância de Bhattacharyya, usada para medir \"sobreposição\" entre os dois histogramas\n"
   ]
  },
  {
   "cell_type": "code",
   "execution_count": null,
   "id": "1625d20aeef8e0ba",
   "metadata": {},
   "outputs": [],
   "source": [
    "# Metodos para cálculo do histograma\n",
    "OPENCV_METHODS = ((\"Correlation\", cv2.HISTCMP_CORREL), (\"Chi-Squared\", cv2.HISTCMP_CHISQR), (\"Intersection\", cv2.HISTCMP_INTERSECT), (\"Bhattacharyya\", cv2.HISTCMP_BHATTACHARYYA))\n",
    "\n",
    "imagem_analisada = '\\\\images\\\\hist_compare\\\\apple1.jpg'\n",
    "\n",
    "lista_resultados = []\n",
    "lista_methodName = []\n",
    "\n",
    "for (methodName, method) in OPENCV_METHODS:\n",
    "\n",
    "    results = {}\n",
    "    reverse = False\n",
    "\n",
    "    # Se estivermos usando a Correlation ou Intersection, classificar os resultados na ordem inversa\n",
    "    if methodName in (\"Correlation\", \"Intersection\"):\n",
    "        reverse = True\n",
    "\n",
    "    for (k, hist) in index.items():\n",
    "        # Calcular a distancia entre os dois histogramas usando os metodos\n",
    "        # Atualizar o dicionario de resultados\n",
    "        d = cv2.compareHist(index[os.getcwd() + imagem_analisada], hist, method)\n",
    "        results[k] = d\n",
    "\n",
    "    # Ordenar os resultados\n",
    "    lista_methodName.append(methodName)\n",
    "    results = sorted([(v, k) for (k, v) in results.items()], reverse = reverse)\n",
    "    lista_resultados.append(results)"
   ]
  },
  {
   "cell_type": "code",
   "execution_count": null,
   "id": "62d9c798df7f3a6d",
   "metadata": {},
   "outputs": [],
   "source": [
    "lista_resultados"
   ]
  },
  {
   "cell_type": "code",
   "execution_count": null,
   "id": "f250f23a4f959e2d",
   "metadata": {},
   "outputs": [],
   "source": [
    "# Criar o dataframe\n",
    "\n",
    "for i in range(len(lista_methodName)):\n",
    "    lista_resultados[i] =  pd.DataFrame(lista_resultados[i])\n",
    "    lista_resultados[i]['Metodo'] = lista_methodName[i]\n",
    "\n",
    "\n",
    "df = pd.concat(lista_resultados)\n",
    "df.to_csv('Resultado_compareHist.csv', sep=';', encoding='latin1')"
   ]
  },
  {
   "cell_type": "code",
   "execution_count": null,
   "id": "7dcf04eae64c5b55",
   "metadata": {},
   "outputs": [],
   "source": [
    "# Analise do DataFrame\n",
    "# Correlacao\n",
    "correlation = df.loc[df['Metodo'] == 'Correlation']\n",
    "correlation.sort_values(0)\n",
    "\n",
    "for i in range(len(correlation)):\n",
    "    print(correlation[1][i])"
   ]
  },
  {
   "cell_type": "code",
   "execution_count": null,
   "id": "37243847994818a9",
   "metadata": {},
   "outputs": [],
   "source": [
    "#Chi-Quadrado\n",
    "ChiSquared = df.loc[df['Metodo'] == 'Chi-Squared']\n",
    "ChiSquared.sort_values(0)\n",
    "\n",
    "for i in range(len(ChiSquared)):\n",
    "    print(ChiSquared[1][i])"
   ]
  },
  {
   "cell_type": "code",
   "execution_count": null,
   "id": "347ed23fedfbe8f5",
   "metadata": {},
   "outputs": [],
   "source": [
    "#Intersecao\n",
    "Intersection = df.loc[df['Metodo'] == 'Intersection']\n",
    "Intersection.sort_values(0)\n",
    "\n",
    "for i in range(len(Intersection)):\n",
    "    print(Intersection[1][i])"
   ]
  },
  {
   "cell_type": "code",
   "execution_count": null,
   "id": "3c699dc036c4d3e0",
   "metadata": {},
   "outputs": [],
   "source": [
    "#Bhattacharyya\n",
    "Bhattacharyya = df.loc[df['Metodo'] == 'Bhattacharyya']\n",
    "Bhattacharyya.sort_values(0)\n",
    "\n",
    "for i in range(len(Bhattacharyya)):\n",
    "    print(Bhattacharyya[1][i])"
   ]
  }
 ],
 "metadata": {
  "kernelspec": {
   "display_name": "Python 3",
   "language": "python",
   "name": "python3"
  },
  "language_info": {
   "codemirror_mode": {
    "name": "ipython",
    "version": 2
   },
   "file_extension": ".py",
   "mimetype": "text/x-python",
   "name": "python",
   "nbconvert_exporter": "python",
   "pygments_lexer": "ipython2"
  }
 },
 "nbformat": 4,
 "nbformat_minor": 5
}
