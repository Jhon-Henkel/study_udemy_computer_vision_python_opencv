{
 "cells": [
  {
   "metadata": {},
   "cell_type": "markdown",
   "source": [
    "### Ajuste de escala\n",
    "A operação de ajuste de escala visa altera proporcionalmente as dimensões de uma imagem sem que a mesma fique destorcida.\n",
    "\n",
    "Importando biblioteca"
   ],
   "id": "ce49315d0e025045"
  },
  {
   "metadata": {
    "ExecuteTime": {
     "end_time": "2025-05-11T14:10:40.309608Z",
     "start_time": "2025-05-11T14:10:40.306776Z"
    }
   },
   "cell_type": "code",
   "source": [
    "import cv2 as cv\n",
    "import numpy as np\n",
    "from matplotlib import pyplot as plt"
   ],
   "id": "182da07d7c9f6b62",
   "outputs": [],
   "execution_count": 5
  },
  {
   "metadata": {},
   "cell_type": "markdown",
   "source": "Lendo a imagem",
   "id": "95b715eadb647505"
  },
  {
   "metadata": {
    "ExecuteTime": {
     "end_time": "2025-05-11T14:10:40.345854Z",
     "start_time": "2025-05-11T14:10:40.341840Z"
    }
   },
   "cell_type": "code",
   "source": "imgOriginal = cv.imread(\"images/02_grey.jpg\")",
   "id": "8ba9be62c970bf25",
   "outputs": [],
   "execution_count": 6
  },
  {
   "metadata": {},
   "cell_type": "markdown",
   "source": [
    "FUNÇÃO **resize(src, dst, fx, fy, interpolation)**\n",
    "\n",
    "Entrada:\n",
    "1. src = Matriz referente à imagem.\n",
    "2. dst = Imagem de saída.\n",
    "3. fx = fator de escala horizontal.\n",
    "4. fy = fator de escala vertical.\n",
    "5. interpolation = Método de interpolação (INTER_NEAREST, INTER_LINEAR, INTER_AREA ou INTER_CUBIC)\n",
    "\n",
    "Saída:\n",
    "1. imagem modificada."
   ],
   "id": "113a8f1d181b70ea"
  },
  {
   "metadata": {
    "ExecuteTime": {
     "end_time": "2025-05-11T14:10:40.390943Z",
     "start_time": "2025-05-11T14:10:40.387091Z"
    }
   },
   "cell_type": "code",
   "source": "imgModificada = cv.resize(imgOriginal, None, fx = 0.8, fy = 0.8, interpolation = cv.INTER_CUBIC)",
   "id": "d79b2908bf95389a",
   "outputs": [],
   "execution_count": 7
  },
  {
   "metadata": {
    "ExecuteTime": {
     "end_time": "2025-05-11T14:12:49.813758Z",
     "start_time": "2025-05-11T14:12:48.657746Z"
    }
   },
   "cell_type": "code",
   "source": [
    "cv.imshow(\"Imagem Original\", imgOriginal)\n",
    "cv.imshow(\"Imagem Modificada\", imgModificada)\n",
    "cv.waitKey(0)\n",
    "cv.destroyAllWindows()"
   ],
   "id": "387671987567066",
   "outputs": [],
   "execution_count": 9
  }
 ],
 "metadata": {
  "kernelspec": {
   "display_name": "Python 3",
   "language": "python",
   "name": "python3"
  },
  "language_info": {
   "codemirror_mode": {
    "name": "ipython",
    "version": 2
   },
   "file_extension": ".py",
   "mimetype": "text/x-python",
   "name": "python",
   "nbconvert_exporter": "python",
   "pygments_lexer": "ipython2",
   "version": "2.7.6"
  }
 },
 "nbformat": 4,
 "nbformat_minor": 5
}
