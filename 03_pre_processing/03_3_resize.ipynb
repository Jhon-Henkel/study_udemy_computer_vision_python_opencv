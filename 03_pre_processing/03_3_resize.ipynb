{
 "cells": [
  {
   "cell_type": "markdown",
   "id": "ce49315d0e025045",
   "metadata": {},
   "source": [
    "### Ajuste de escala\n",
    "A operação de ajuste de escala visa altera proporcionalmente as dimensões de uma imagem sem que a mesma fique destorcida.\n",
    "\n",
    "Importando biblioteca"
   ]
  },
  {
   "cell_type": "code",
   "execution_count": null,
   "id": "182da07d7c9f6b62",
   "metadata": {},
   "outputs": [],
   "source": [
    "import cv2 as cv\n",
    "import numpy as np\n",
    "from matplotlib import pyplot as plt"
   ]
  },
  {
   "cell_type": "markdown",
   "id": "95b715eadb647505",
   "metadata": {},
   "source": [
    "Lendo a imagem"
   ]
  },
  {
   "cell_type": "code",
   "execution_count": null,
   "id": "8ba9be62c970bf25",
   "metadata": {},
   "outputs": [],
   "source": [
    "imgOriginal = cv.imread(\"images/02_grey.jpg\")"
   ]
  },
  {
   "cell_type": "markdown",
   "id": "113a8f1d181b70ea",
   "metadata": {},
   "source": [
    "FUNÇÃO **resize(src, dst, fx, fy, interpolation)**\n",
    "\n",
    "Entrada:\n",
    "1. src = Matriz referente à imagem.\n",
    "2. dst = Imagem de saída.\n",
    "3. fx = fator de escala horizontal.\n",
    "4. fy = fator de escala vertical.\n",
    "5. interpolation = Método de interpolação (INTER_NEAREST, INTER_LINEAR, INTER_AREA ou INTER_CUBIC)\n",
    "\n",
    "Saída:\n",
    "1. imagem modificada."
   ]
  },
  {
   "cell_type": "code",
   "execution_count": null,
   "id": "d79b2908bf95389a",
   "metadata": {},
   "outputs": [],
   "source": [
    "imgModificada = cv.resize(imgOriginal, None, fx = 0.8, fy = 0.8, interpolation = cv.INTER_CUBIC)"
   ]
  },
  {
   "cell_type": "code",
   "execution_count": null,
   "id": "387671987567066",
   "metadata": {},
   "outputs": [],
   "source": [
    "cv.imshow(\"Imagem Original\", imgOriginal)\n",
    "cv.imshow(\"Imagem Modificada\", imgModificada)\n",
    "cv.waitKey(0)\n",
    "cv.destroyAllWindows()"
   ]
  }
 ],
 "metadata": {
  "kernelspec": {
   "display_name": "Python 3",
   "language": "python",
   "name": "python3"
  },
  "language_info": {
   "codemirror_mode": {
    "name": "ipython",
    "version": 2
   },
   "file_extension": ".py",
   "mimetype": "text/x-python",
   "name": "python",
   "nbconvert_exporter": "python",
   "pygments_lexer": "ipython2"
  }
 },
 "nbformat": 4,
 "nbformat_minor": 5
}
