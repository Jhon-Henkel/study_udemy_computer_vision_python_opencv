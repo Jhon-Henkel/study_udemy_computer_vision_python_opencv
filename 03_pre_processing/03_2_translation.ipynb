{
 "cells": [
  {
   "cell_type": "markdown",
   "id": "7f4bb1c9dfa2230",
   "metadata": {},
   "source": [
    "### Translação da Imagem\n",
    "A operação de translação consiste me deslocar uma imagem de posição.\n",
    "\n",
    "Importação das bibliotecas"
   ]
  },
  {
   "cell_type": "code",
   "execution_count": null,
   "id": "da2e6f990afab29e",
   "metadata": {},
   "outputs": [],
   "source": [
    "import cv2 as cv\n",
    "import numpy as np\n",
    "from matplotlib import pyplot as plt"
   ]
  },
  {
   "cell_type": "markdown",
   "id": "ed7b225b4d149d69",
   "metadata": {},
   "source": [
    "Lendo a imagem"
   ]
  },
  {
   "cell_type": "code",
   "execution_count": null,
   "id": "ef3c20362ec625e5",
   "metadata": {},
   "outputs": [],
   "source": [
    "imgOriginal = cv.imread(\"images/02_grey.jpg\", 0)"
   ]
  },
  {
   "cell_type": "markdown",
   "id": "8996ddde4d9442cc",
   "metadata": {},
   "source": [
    "FUNÇÃO **float32([h, v, px], [h, v, px])**\n",
    "\n",
    "Entrada:\n",
    "1. [h, v, px] = horizontal, vertical, quantidade de pixel referente ao deslocamento.\n",
    "\n",
    "Saída:\n",
    "1. Nova imagem deslocada."
   ]
  },
  {
   "cell_type": "code",
   "execution_count": null,
   "id": "f80aac95d7adf901",
   "metadata": {},
   "outputs": [],
   "source": [
    "totalLinhas, totalColunas = imgOriginal.shape"
   ]
  },
  {
   "cell_type": "code",
   "execution_count": null,
   "id": "1210b8273baf580e",
   "metadata": {},
   "outputs": [],
   "source": [
    "matriz  = np.float32([[1,0,100],[0,1,100]])\n",
    "imgDeslocada = cv.warpAffine(imgOriginal, matriz, (totalColunas, totalLinhas))"
   ]
  },
  {
   "cell_type": "code",
   "execution_count": null,
   "id": "6af072e9b6299fc",
   "metadata": {},
   "outputs": [],
   "source": [
    "fig = plt.figure(figsize=(10,8))\n",
    "plt.imshow(imgDeslocada, cmap = plt.cm.gray)"
   ]
  }
 ],
 "metadata": {
  "kernelspec": {
   "display_name": "Python 3",
   "language": "python",
   "name": "python3"
  },
  "language_info": {
   "codemirror_mode": {
    "name": "ipython",
    "version": 2
   },
   "file_extension": ".py",
   "mimetype": "text/x-python",
   "name": "python",
   "nbconvert_exporter": "python",
   "pygments_lexer": "ipython2"
  }
 },
 "nbformat": 4,
 "nbformat_minor": 5
}
