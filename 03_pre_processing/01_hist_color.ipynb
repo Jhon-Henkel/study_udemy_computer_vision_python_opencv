{
 "cells": [
  {
   "cell_type": "markdown",
   "id": "69f2b7faf60b13c0",
   "metadata": {},
   "source": [
    "### Histogramas de imagens coloridas\n",
    "\n",
    "Uma imagem colorida possui um histograma para cada canal de cor. Uma vez que cada canal é representado por pixels em tons de cinza, o mesmo método estudado no tópico anterios pode ser implementado para mostrar os histogramas de imagens coloridas\n",
    "\n",
    "Importando as bibliotecas"
   ]
  },
  {
   "cell_type": "code",
   "execution_count": null,
   "id": "2a9e7bec9e068cd3",
   "metadata": {},
   "outputs": [],
   "source": [
    "import cv2 as cv\n",
    "import numpy as np\n",
    "from matplotlib import pyplot as plt\n",
    "%matplotlib inline"
   ]
  },
  {
   "cell_type": "markdown",
   "id": "70d4f5f507d4b909",
   "metadata": {},
   "source": [
    "Leitura da imagem e segmentação dos canais da imagem (RGB)\n",
    "\n"
   ]
  },
  {
   "cell_type": "code",
   "execution_count": null,
   "id": "106cef36baaad5fd",
   "metadata": {},
   "outputs": [],
   "source": [
    "img = cv.imread(\"images/01_color.jpg\")\n",
    "blue, green, red = cv.split(img)"
   ]
  },
  {
   "cell_type": "markdown",
   "id": "c17d4762fab925ed",
   "metadata": {},
   "source": [
    "Mostrar a imagem"
   ]
  },
  {
   "cell_type": "code",
   "execution_count": null,
   "id": "a764be0c98a04474",
   "metadata": {},
   "outputs": [],
   "source": [
    "plt.imshow(img)"
   ]
  },
  {
   "cell_type": "markdown",
   "id": "dc120005f111a7e0",
   "metadata": {},
   "source": [
    "Histogramas da imagem"
   ]
  },
  {
   "cell_type": "code",
   "execution_count": null,
   "id": "7ef6ea4a74a1ca98",
   "metadata": {},
   "outputs": [],
   "source": [
    "fig = plt.figure(figsize=(20,5))\n",
    "\n",
    "ax1 = fig.add_subplot(131)\n",
    "ax1.hist(blue.ravel(), bins=256, range=(0,256))\n",
    "plt.title(\"Histograma co canal azul\")\n",
    "\n",
    "ax2 = fig.add_subplot(132)\n",
    "ax2.hist(green.ravel(), bins=256, range=(0,256))\n",
    "plt.title(\"Histograma co canal verde\")\n",
    "\n",
    "ax3 = fig.add_subplot(133)\n",
    "ax3.hist(red.ravel(), bins=256, range=(0,256))\n",
    "plt.title(\"Histograma co canal vermelho\")\n",
    "\n",
    "plt.show()"
   ]
  }
 ],
 "metadata": {
  "kernelspec": {
   "display_name": "Python 3",
   "language": "python",
   "name": "python3"
  },
  "language_info": {
   "codemirror_mode": {
    "name": "ipython",
    "version": 2
   },
   "file_extension": ".py",
   "mimetype": "text/x-python",
   "name": "python",
   "nbconvert_exporter": "python",
   "pygments_lexer": "ipython2"
  }
 },
 "nbformat": 4,
 "nbformat_minor": 5
}
