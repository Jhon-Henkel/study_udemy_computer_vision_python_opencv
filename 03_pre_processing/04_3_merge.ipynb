{
 "cells": [
  {
   "cell_type": "markdown",
   "id": "f41b00f8f1159415",
   "metadata": {},
   "source": [
    "### Operação de mistura\n",
    "A operação de mistura consiste em mesclar, com perda de dados, as informações de duas imagens em uma."
   ]
  },
  {
   "cell_type": "code",
   "execution_count": null,
   "id": "da7c6c34e4e1c918",
   "metadata": {},
   "outputs": [],
   "source": [
    "import cv2 as cv\n",
    "from matplotlib import pyplot as plt"
   ]
  },
  {
   "cell_type": "markdown",
   "id": "62d81844c2de572e",
   "metadata": {},
   "source": [
    "Lendo as imagens"
   ]
  },
  {
   "cell_type": "code",
   "execution_count": null,
   "id": "7bda327e10d150d6",
   "metadata": {},
   "outputs": [],
   "source": [
    "img1 = cv.imread('images/04_2_color.png', 0)\n",
    "img2 = cv.imread('images/04_1_color.png', 0)\n",
    "\n",
    "fig = plt.figure(figsize=(20,5))\n",
    "\n",
    "ax1 = fig.add_subplot(121)\n",
    "plt.imshow(img1, cmap=plt.cm.gray)\n",
    "\n",
    "ax2 = fig.add_subplot(122)\n",
    "plt.imshow(img2, cmap=plt.cm.gray)\n",
    "\n",
    "plt.show()"
   ]
  },
  {
   "cell_type": "markdown",
   "id": "62085be869125c2d",
   "metadata": {},
   "source": [
    "FUNÇÃO **addWeighted(src1, alpha, src2, beta, gamma)**\n",
    "\n",
    "Entrada:\n",
    "1. src1 = Matriz referente à primeira imagem.\n",
    "2. alpha = Intensidade da primeira imagem.\n",
    "3. src2 = Matriz referente à segunda imagem.\n",
    "4. beta = Intensidade da segunda imagem.\n",
    "5. gamma = Valor escalar adicionado a cada soma.\n",
    "\n",
    "Saída = Matriz de uma imagem mesclada."
   ]
  },
  {
   "cell_type": "code",
   "execution_count": null,
   "id": "ebefb961d09e0d45",
   "metadata": {},
   "outputs": [],
   "source": [
    "imgTotal = cv.addWeighted(img1, 0.3, img2, 0.8, 0)"
   ]
  },
  {
   "cell_type": "code",
   "execution_count": null,
   "id": "75b17b663f52e062",
   "metadata": {},
   "outputs": [],
   "source": [
    "fig=plt.figure(figsize=(20,5))\n",
    "plt.imshow(imgTotal, cmap=plt.cm.gray)"
   ]
  }
 ],
 "metadata": {
  "kernelspec": {
   "display_name": "Python 3",
   "language": "python",
   "name": "python3"
  },
  "language_info": {
   "codemirror_mode": {
    "name": "ipython",
    "version": 2
   },
   "file_extension": ".py",
   "mimetype": "text/x-python",
   "name": "python",
   "nbconvert_exporter": "python",
   "pygments_lexer": "ipython2"
  }
 },
 "nbformat": 4,
 "nbformat_minor": 5
}
