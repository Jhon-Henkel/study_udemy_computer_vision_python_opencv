{
 "cells": [
  {
   "cell_type": "markdown",
   "id": "f9795e950d4268e",
   "metadata": {},
   "source": [
    "### Operação de subtração\n",
    "A operação de adição consiste em subtrair os valores dos pixels de uma imagem com outra. O resultado é uma nova imagem\n",
    "\n",
    "Bibliotecas"
   ]
  },
  {
   "cell_type": "code",
   "execution_count": null,
   "id": "65c0685600839021",
   "metadata": {},
   "outputs": [],
   "source": [
    "import cv2 as cv\n",
    "from matplotlib import pyplot as plt"
   ]
  },
  {
   "cell_type": "markdown",
   "id": "4492e596c6f789dd",
   "metadata": {},
   "source": [
    "Lendo as imagens"
   ]
  },
  {
   "cell_type": "code",
   "execution_count": null,
   "id": "cafc4a77f100956e",
   "metadata": {},
   "outputs": [],
   "source": [
    "img1 = cv.imread('images/04_2_color.png', 0)\n",
    "img2 = cv.imread('images/04_1_color.png', 0)"
   ]
  },
  {
   "cell_type": "code",
   "execution_count": null,
   "id": "32c0f397acf17d3e",
   "metadata": {},
   "outputs": [],
   "source": [
    "fig = plt.figure(figsize=(20,5))\n",
    "ax1=fig.add_subplot(121)\n",
    "plt.imshow(img1, cmap=plt.cm.gray)\n",
    "\n",
    "ax2=fig.add_subplot(122)\n",
    "plt.imshow(img2, cmap=plt.cm.gray)\n",
    "plt.show()"
   ]
  },
  {
   "cell_type": "markdown",
   "id": "1c4ff49f5f42eda5",
   "metadata": {},
   "source": [
    "FUNÇÃO **subtract(imag1, imag2)**\n",
    "\n",
    "Entrada = imagens 1 e 2.\n",
    "\n",
    "Saída = Matriz com os valores dos pixels somados."
   ]
  },
  {
   "cell_type": "code",
   "execution_count": null,
   "id": "5eac84114b7aeacc",
   "metadata": {},
   "outputs": [],
   "source": [
    "imgSub = cv.subtract(img1, img2)"
   ]
  },
  {
   "cell_type": "code",
   "execution_count": null,
   "id": "52c7bdafec2f8f30",
   "metadata": {},
   "outputs": [],
   "source": [
    "fig = plt.figure(figsize=(20,5))\n",
    "plt.imshow(imgSub, cmap=plt.cm.gray)"
   ]
  }
 ],
 "metadata": {
  "kernelspec": {
   "display_name": "Python 3",
   "language": "python",
   "name": "python3"
  },
  "language_info": {
   "codemirror_mode": {
    "name": "ipython",
    "version": 2
   },
   "file_extension": ".py",
   "mimetype": "text/x-python",
   "name": "python",
   "nbconvert_exporter": "python",
   "pygments_lexer": "ipython2"
  }
 },
 "nbformat": 4,
 "nbformat_minor": 5
}
