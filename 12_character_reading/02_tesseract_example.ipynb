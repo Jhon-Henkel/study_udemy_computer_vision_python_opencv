{
 "cells": [
  {
   "cell_type": "markdown",
   "metadata": {},
   "source": [
    "# Tesseract\n",
    "\n",
    "## Instalação:\n",
    "\n",
    "https://tesseract-ocr.github.io/tessdoc/Home.html\n",
    "\n",
    "### Linux\n",
    "\n",
    "* sudo apt install tesseract-ocr\n",
    "* sudo apt install libtesseract-dev\n",
    "\n",
    "\n",
    "### Funções:\n",
    "\n",
    "1. **get_tesseract_version** Retorna a versão instalada do Tesseract.\n",
    "2. **image_to_string Returns** O resultado do Tesseract OCR em uma string que a imagem contém.\n",
    "3. **image_to_boxes** Retorna resultado contendo caracteres reconhecidos e seus boxes\n",
    "4. **image_to_data** Retorna as palavras encontras na imagem delitimadas por boxes\n",
    "5. **image_to_osd Returns** resultado contendo informações sobre orientação e detecção de script.\n",
    "6. **run_and_get_output** Retorna a saída bruta do Tesseract OCR. Dá um pouco mais de controle sobre os parâmetros enviados ao tesseract.\n",
    "\n",
    "### Parametros:\n",
    "\n",
    "image_to_data(image, lang=None, config='', nice=0, output_type=Output.STRING, timeout=0, pandas_config=None)\n",
    "\n",
    "**image Object or String** - Imagem. É preciso converter para RGB.\n",
    "**lang String** - Lingua do Tesseract deverá reconhecer. Defaults é eng. É possível multiplas linguas: lang='eng+fra'\n",
    "**config String** - Qualquer custom adicional configuração: config='--psm 6'\n",
    "**nice Integer** - modifica a prioridade do processador para a execução do Tesseract. Não suportado no Windows. Nice ajusta a gentileza de processos do tipo unix.\n",
    "**output_type** Atributo de classe - especifica o tipo de saída, o padrão é string. Para obter a lista completa de todos os tipos suportados, verifique a definição de classe pytesseract.Output.\n",
    "**timeout Integer or Float** - duração em segundos para o processamento do OCR, após o qual o pytesseract será encerrado e aumentará o RuntimeError.\n",
    "**pandas_config Dict** - somente para o tipo Output.DATAFRAME. Dicionário com argumentos personalizados para pandas.read_csv. Permite personalizar a saída de image_to_data.\n",
    "\n",
    "\n"
   ]
  },
  {
   "cell_type": "code",
   "execution_count": null,
   "metadata": {},
   "outputs": [],
   "source": [
    "import cv2\n",
    "import pytesseract\n",
    "import matplotlib.pyplot as plt\n",
    "import os\n",
    "\n",
    "path = os.getcwd()\n",
    "\n",
    "img = cv2.imread('images/03.png')\n",
    "img = cv2.cvtColor(img, cv2.COLOR_BGR2RGB)\n",
    "\n",
    "hImg, wImg,_ = img.shape\n",
    "boxes = pytesseract.image_to_boxes(img)\n",
    "\n",
    "for b in boxes.splitlines():\n",
    "    b = b.split(' ')\n",
    "    x, y, w, h = int(b[1]), int(b[2]), int(b[3]), int(b[4])\n",
    "    cv2.rectangle(img, (x, hImg - y), (w, hImg - h), (255, 0, 0), 2)\n",
    "    cv2.putText(img, b[0], (x, hImg - y + 25), cv2.FONT_HERSHEY_SIMPLEX, 1, (255, 0, 0), 2)\n",
    "    \n",
    "plt.imshow(img)\n",
    "plt.show()\n"
   ]
  },
  {
   "cell_type": "code",
   "execution_count": null,
   "metadata": {},
   "outputs": [],
   "source": [
    "import cv2\n",
    "import pytesseract\n",
    " \n",
    "img = cv2.imread('images/03.png')\n",
    "img = cv2.cvtColor(img, cv2.COLOR_BGR2RGB)\n",
    " \n",
    "#[   0          1           2           3           4          5         6       7       8        9        10       11 ]\n",
    "#['level', 'page_num', 'block_num', 'par_num', 'line_num', 'word_num', 'left', 'top', 'width', 'height', 'conf', 'text']\n",
    "boxes = pytesseract.image_to_data(img)\n",
    "for a,b in enumerate(boxes.splitlines()):\n",
    "        print(b)\n",
    "        if a != 0:\n",
    "            b = b.split()\n",
    "            if len(b)==12:\n",
    "                x, y, w, h = int(b[6]), int(b[7]), int(b[8]), int(b[9])\n",
    "                cv2.putText(img, b[11], (x, y - 5), cv2.FONT_HERSHEY_SIMPLEX, 1, (255, 0, 0), 2)\n",
    "                cv2.rectangle(img, (x, y), (x + w, y + h), (255, 0, 0), 2)\n",
    "\n",
    "plt.imshow(img)\n",
    "plt.show()"
   ]
  }
 ],
 "metadata": {
  "kernelspec": {
   "display_name": "Python 3",
   "language": "python",
   "name": "python3"
  },
  "language_info": {
   "codemirror_mode": {
    "name": "ipython",
    "version": 3
   },
   "file_extension": ".py",
   "mimetype": "text/x-python",
   "name": "python",
   "nbconvert_exporter": "python",
   "pygments_lexer": "ipython3"
  }
 },
 "nbformat": 4,
 "nbformat_minor": 4
}
