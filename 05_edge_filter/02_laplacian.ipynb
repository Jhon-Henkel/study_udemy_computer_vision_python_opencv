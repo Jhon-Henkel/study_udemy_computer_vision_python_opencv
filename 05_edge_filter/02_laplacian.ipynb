{
 "cells": [
  {
   "cell_type": "markdown",
   "id": "dd38151cb4b997a",
   "metadata": {},
   "source": [
    "### Detector de bordas - LAPLACIANO\n",
    "O operador Laplaciano é um dos mais populares e usados para realçar bordas. Assim como o operador de Sobel, o laplaciano também é um filtro espacial. Ele possui uma máscara de ordem 3 que percorre toda a imagem alterando o píxel-alvo pela média ponderada dos píxeis vizinhos, e depois eleva ao quadrado obtido.\n",
    "\n",
    "O operador laplaciano tende a produzir bordas mais finas comparado ao filtro de Sobel, entretanto, também é muito sensível a ruídos.\n",
    "\n",
    "Importando as bibliotecas"
   ]
  },
  {
   "cell_type": "code",
   "id": "191360fe29c4548b",
   "metadata": {},
   "source": [
    "import cv2\n",
    "from matplotlib import pyplot as plt"
   ],
   "outputs": [],
   "execution_count": null
  },
  {
   "cell_type": "code",
   "id": "70779a22960a381c",
   "metadata": {},
   "source": [
    "img = cv2.imread('images/01.JPG')"
   ],
   "outputs": [],
   "execution_count": null
  },
  {
   "cell_type": "markdown",
   "id": "2d817ebe11e0f632",
   "metadata": {},
   "source": [
    "FUNÇÃO Laplacian(img, var_arm)\n",
    "\n",
    "Entrada:\n",
    "1. Img = Imagem com a qual queremos trabalhar.\n",
    "2. var_arm = Valor que representa o pixel.\n",
    "\n",
    "Saída:\n",
    "1. Matriz referente a imagem com o realce do filtro Laplaciano."
   ]
  },
  {
   "cell_type": "code",
   "id": "190946a50b986434",
   "metadata": {},
   "source": [
    "lap = cv2.Laplacian(img, cv2.CV_8U)"
   ],
   "outputs": [],
   "execution_count": null
  },
  {
   "cell_type": "code",
   "id": "74db4af3924a8b12",
   "metadata": {},
   "source": [
    "fig = plt.figure(figsize=(20,50))\n",
    "\n",
    "ax1 = fig.add_subplot(121)\n",
    "plt.imshow(img)\n",
    "plt.title(\"Imagem Original\")\n",
    "\n",
    "ax2 = fig.add_subplot(122)\n",
    "plt.imshow(lap)\n",
    "plt.title(\"Operador Laplaciano\")\n",
    "\n",
    "plt.show()"
   ],
   "outputs": [],
   "execution_count": null
  }
 ],
 "metadata": {
  "kernelspec": {
   "display_name": "Python 3",
   "language": "python",
   "name": "python3"
  },
  "language_info": {
   "codemirror_mode": {
    "name": "ipython",
    "version": 2
   },
   "file_extension": ".py",
   "mimetype": "text/x-python",
   "name": "python",
   "nbconvert_exporter": "python",
   "pygments_lexer": "ipython2"
  }
 },
 "nbformat": 4,
 "nbformat_minor": 5
}
