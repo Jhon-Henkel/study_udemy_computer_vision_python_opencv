{
 "cells": [
  {
   "cell_type": "markdown",
   "id": "db248a965a19e93a",
   "metadata": {},
   "source": [
    "### Detector de bordas - SOBEL\n",
    "O operador de Sobel realiza uma operação para realçar contornos em imagens. Esse tipo de filtro é não linear e realça linhas verticais e horizontais mais escuras que o fundo, sem realçar pontos isolados.\n",
    "\n",
    "Além dessas características, o detector de sobel possibilita realçar as arestas independentes da direção: a filtragem pode ser realizada tanto vertical quanto horizontalmente.\n",
    "\n",
    "As regiões destacadas por esse procedimento resultam em bordas mais \"grossas\" comparadas as outras técnicas.\n",
    "\n",
    "Importando bibliotecas"
   ]
  },
  {
   "cell_type": "code",
   "id": "8da5cfe9e07d3def",
   "metadata": {},
   "source": [
    "import cv2\n",
    "from matplotlib import pyplot as plt"
   ],
   "outputs": [],
   "execution_count": null
  },
  {
   "cell_type": "code",
   "id": "805c699834111c52",
   "metadata": {},
   "source": [
    "img = cv2.imread('images/01.JPG')"
   ],
   "outputs": [],
   "execution_count": null
  },
  {
   "cell_type": "markdown",
   "id": "2ad261b81a205607",
   "metadata": {},
   "source": [
    "FUNÇÃO **Sobel(img, var_arm, h, v, máscara)**\n",
    "\n",
    "Entrada:\n",
    "1. Img = Imagem com a qual queremos trabalhar.\n",
    "2. var_arm = Valor que representa o pixel.\n",
    "3. h = Realce horizontal\n",
    "4. v = Realce vertical\n",
    "5. máscara = dimensão da máscara que será aplicada. Deve ser inteiro, impar, e preferencialmente 1, 3, 5 ou 7\n",
    "\n",
    "Saída:\n",
    "1. Matriz referente a imagem com o realce do filtro Sobel."
   ]
  },
  {
   "cell_type": "code",
   "id": "78a70ade3afd02ab",
   "metadata": {},
   "source": [
    "sobelx = cv2.Sobel(img, cv2.CV_8U, 0, 1, ksize=7)\n",
    "sobely = cv2.Sobel(img, cv2.CV_8U, 1, 0, ksize=7)"
   ],
   "outputs": [],
   "execution_count": null
  },
  {
   "cell_type": "code",
   "id": "5c1515692bfb46d5",
   "metadata": {},
   "source": [
    "fig = plt.figure(figsize=(20,50))\n",
    "\n",
    "ax1 = fig.add_subplot(131)\n",
    "plt.imshow(img)\n",
    "\n",
    "ax2 = fig.add_subplot(132)\n",
    "plt.imshow(sobelx)\n",
    "\n",
    "ax3 = fig.add_subplot(133)\n",
    "plt.imshow(sobely)\n",
    "\n",
    "plt.show()"
   ],
   "outputs": [],
   "execution_count": null
  }
 ],
 "metadata": {
  "kernelspec": {
   "display_name": "Python 3",
   "language": "python",
   "name": "python3"
  },
  "language_info": {
   "codemirror_mode": {
    "name": "ipython",
    "version": 2
   },
   "file_extension": ".py",
   "mimetype": "text/x-python",
   "name": "python",
   "nbconvert_exporter": "python",
   "pygments_lexer": "ipython2"
  }
 },
 "nbformat": 4,
 "nbformat_minor": 5
}
