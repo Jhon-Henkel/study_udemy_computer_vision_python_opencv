{
 "cells": [
  {
   "cell_type": "markdown",
   "id": "f6aa5e11fdaf48a",
   "metadata": {},
   "source": [
    "## Gradiente morfológico, TOP HAT e BLACK HAT\n",
    "1. Gradiente morfológico\n",
    "A operação chamada gradiente morfológico é a diferença entre a operação de dilatação e erosão de uma imagem. O resultado é uma imagem que representa a borda do objeto de interesse.\n",
    "\n",
    "2. TOP HAT\n",
    "A operação de TOPHAT consiste na subtração da versão morfologicamente aberta de uma imagem com a versão original. Esse tipo de operação é aplicada a fim de realçar objetos brilhantes em fundos escuros. Além dessa utilidade, ela também é aplicada com intuito de corrigir a variação de luminosidade em imagens, possibilidatando que objetos representados em regiões mais escuras sejam realçadas.\n",
    "\n",
    "3. BLACK HAT\n",
    "Essa operação consiste na subtração da imagem original por sua versão morfologicamente fechada.\n",
    "\n",
    "Importando as bibliotecas necessárias e lendo as imagens."
   ]
  },
  {
   "cell_type": "code",
   "id": "9a2a8f1a752c45c8",
   "metadata": {},
   "source": [
    "import cv2\n",
    "import numpy as np\n",
    "from matplotlib import pyplot as plt\n",
    "\n",
    "img1 = cv2.imread('images/coin.PNG')\n",
    "img2 = cv2.imread('images/skeleton.tif')\n",
    "\n",
    "fig = plt.figure(figsize=(15,15))\n",
    "\n",
    "ax1 = fig.add_subplot(221)\n",
    "plt.imshow(img1)\n",
    "plt.title(\"Imagem Original\")\n",
    "\n",
    "ax2 = fig.add_subplot(222)\n",
    "plt.imshow(img2)\n",
    "plt.title(\"Imagem Original\")\n",
    "\n",
    "plt.show()"
   ],
   "outputs": [],
   "execution_count": null
  },
  {
   "cell_type": "markdown",
   "id": "98a851dc78b3e409",
   "metadata": {},
   "source": [
    "### Elemento estruturante"
   ]
  },
  {
   "cell_type": "code",
   "id": "5acaf834d3aa5c66",
   "metadata": {},
   "source": [
    "elem_str1 = cv2.getStructuringElement(cv2.MORPH_ELLIPSE, (5,5))\n",
    "elem_str2 = cv2.getStructuringElement(cv2.MORPH_ELLIPSE, (21,21))\n",
    "\n",
    "print(elem_str1)\n",
    "print(elem_str2)"
   ],
   "outputs": [],
   "execution_count": null
  },
  {
   "cell_type": "markdown",
   "id": "1fec7f950ea0b21e",
   "metadata": {},
   "source": [
    "FUNÇÃO morphologyEx(img, oper, elem_estr)\n",
    "\n",
    "Entrada:\n",
    "1. img = Imagem com a qual queremos trabalhar.\n",
    "2. open = Operação que será realizada\n",
    "3. elem_estr = Elemento estruturante\n",
    "\n",
    "Saída:\n",
    "1. Imagem nova."
   ]
  },
  {
   "cell_type": "code",
   "id": "39f3ff61d9997ef2",
   "metadata": {},
   "source": [
    "imgProc1 = cv2.morphologyEx(img1, cv2.MORPH_GRADIENT, elem_str1)\n",
    "imgProc2 = cv2.morphologyEx(img2, cv2.MORPH_TOPHAT, elem_str2)\n",
    "imgProc3 = cv2.morphologyEx(img2, cv2.MORPH_BLACKHAT, elem_str2)\n",
    "\n",
    "fig = plt.figure(figsize=(15,15))\n",
    "\n",
    "ax1 = fig.add_subplot(131)\n",
    "plt.imshow(imgProc1)\n",
    "plt.title(\"Gradiete Morfologico\")\n",
    "\n",
    "ax2 = fig.add_subplot(132)\n",
    "plt.imshow(imgProc2)\n",
    "plt.title(\"TOPHAT\")\n",
    "\n",
    "ax3 = fig.add_subplot(133)\n",
    "plt.imshow(imgProc3)\n",
    "plt.title(\"BLACKHAT\")\n",
    "\n",
    "plt.show()"
   ],
   "outputs": [],
   "execution_count": null
  }
 ],
 "metadata": {
  "kernelspec": {
   "display_name": "Python 3",
   "language": "python",
   "name": "python3"
  },
  "language_info": {
   "codemirror_mode": {
    "name": "ipython",
    "version": 2
   },
   "file_extension": ".py",
   "mimetype": "text/x-python",
   "name": "python",
   "nbconvert_exporter": "python",
   "pygments_lexer": "ipython2"
  }
 },
 "nbformat": 4,
 "nbformat_minor": 5
}
