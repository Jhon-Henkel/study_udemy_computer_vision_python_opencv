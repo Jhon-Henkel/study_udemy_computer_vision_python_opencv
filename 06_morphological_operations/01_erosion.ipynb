{
 "cells": [
  {
   "cell_type": "markdown",
   "id": "bbeb3a32b90ad13f",
   "metadata": {},
   "source": [
    "## Operação de Erosão\n",
    "A operação de erosão pode ser comparada com a ideia de corrosão das arestas do objeto de interesse, resultando em uma imagem \"encolhida\" do objeto.\n",
    "\n",
    "O algoritmo da operação de erosão consiste em sobrepor cada píxel da imagem de entrada com o centro do elemento estruturante. Se todos os pontos do elemento estruturante coincidirem com os pontos do objeto de interesse, então, esse ponto torna-se parte do objeto na imagem de saída.\n",
    "\n",
    "Importando as bibliotecas e lendo a imagem"
   ]
  },
  {
   "cell_type": "code",
   "id": "b9c1581b51a20300",
   "metadata": {},
   "source": [
    "import numpy as np\n",
    "import cv2\n",
    "from matplotlib import pyplot as plt\n",
    "\n",
    "img = cv2.imread(\"images/plate.PNG\")"
   ],
   "outputs": [],
   "execution_count": null
  },
  {
   "cell_type": "markdown",
   "id": "94a48b775feb3096",
   "metadata": {},
   "source": [
    "### Elemento estruturante\n",
    "O elemento estruturante pode ser encarado como uma imagem binária, menor que a imagem original, armazenado geralmente em uma matriz quadrada.\n",
    "\n",
    "O elemento estruturante é a base para que qualquer operação morfológia seja executada."
   ]
  },
  {
   "cell_type": "code",
   "id": "cc89e6c298894ce",
   "metadata": {},
   "source": [
    "element_estr = cv2.getStructuringElement(cv2.MORPH_RECT, (7,7))\n",
    "print(element_estr)"
   ],
   "outputs": [],
   "execution_count": null
  },
  {
   "cell_type": "markdown",
   "id": "d10df18a0a1c3c3",
   "metadata": {},
   "source": [
    "FUNÇÃO erode(img, elem_estr, interc)\n",
    "\n",
    "Entrada:\n",
    "1. img = Imagem com a qual queremos trabalhar.\n",
    "2. elem_estr = Elemento estruturante.\n",
    "3. interc = interações desejadas.\n",
    "\n",
    "Saída:\n",
    "1. Matriz referente a imagem sofrida com a erosão."
   ]
  },
  {
   "cell_type": "code",
   "id": "d2b054f3fb9453af",
   "metadata": {},
   "source": [
    "img_process = cv2.erode(img, element_estr, iterations = 2)\n",
    "\n",
    "fig = plt.figure(figsize=(10,8))\n",
    "ax1 = fig.add_subplot(211)\n",
    "plt.imshow(img)\n",
    "\n",
    "ax2 = fig.add_subplot(212)\n",
    "plt.imshow(img_process)\n",
    "\n",
    "plt.show()"
   ],
   "outputs": [],
   "execution_count": null
  }
 ],
 "metadata": {
  "kernelspec": {
   "display_name": "Python 3 (ipykernel)",
   "language": "python",
   "name": "python3"
  },
  "language_info": {
   "codemirror_mode": {
    "name": "ipython",
    "version": 3
   },
   "file_extension": ".py",
   "mimetype": "text/x-python",
   "name": "python",
   "nbconvert_exporter": "python",
   "pygments_lexer": "ipython3"
  }
 },
 "nbformat": 4,
 "nbformat_minor": 5
}
