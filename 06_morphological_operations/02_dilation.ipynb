{
 "cells": [
  {
   "cell_type": "markdown",
   "id": "e4695a8554d79bc1",
   "metadata": {},
   "source": [
    "## Operação de dilatação\n",
    "A operação de dilatação é oposto da operação de erosão. Nesse procedimento, a área do objeto de interesse será dilatada, ou seja, o objeto do primeiro plano ficará maior do que era inicialmente.\n",
    "\n",
    "Importando as bibliotecas e lendo a imagem"
   ]
  },
  {
   "cell_type": "code",
   "id": "71f19136b5fe845d",
   "metadata": {},
   "source": [
    "\n",
    "import numpy as np\n",
    "import cv2\n",
    "from matplotlib import pyplot as plt\n",
    "\n",
    "img = cv2.imread('images/plate.PNG')"
   ],
   "outputs": [],
   "execution_count": null
  },
  {
   "cell_type": "markdown",
   "id": "b5f55ae2bea7522f",
   "metadata": {},
   "source": [
    "### Elemento estruturante\n",
    "O elemento estruturante pode ser encarado como uma imagem binária, menor que a imagem original, armazenado geralmente em uma matriz quadrada.\n",
    "\n",
    "O elemento estruturante é a base para que qualquer operação morfológia seja executada"
   ]
  },
  {
   "cell_type": "code",
   "id": "a60c6c45efdc6716",
   "metadata": {},
   "source": [
    "element_estr = cv2.getStructuringElement(cv2.MORPH_ELLIPSE, (7,7))\n",
    "print(element_estr)"
   ],
   "outputs": [],
   "execution_count": null
  },
  {
   "cell_type": "markdown",
   "id": "fd78f77e9bf5a7d4",
   "metadata": {},
   "source": [
    "FUNÇÃO dilate(img, elem_estr, interc)\n",
    "\n",
    "Entrada:\n",
    "1. img = Imagem com a qual queremos trabalhar.\n",
    "2. elem_estr = Elemento estruturante.\n",
    "3. interc = interações desejadas.\n",
    "\n",
    "Saída:\n",
    "1. Matriz referente a imagem sofrida com a dilatação."
   ]
  },
  {
   "cell_type": "code",
   "id": "8bacabf3e1d51cfe",
   "metadata": {},
   "source": [
    "img_process = cv2.dilate(img, element_estr, iterations = 2)\n",
    "\n",
    "fig = plt.figure(figsize=(10,8))\n",
    "\n",
    "ax1 = fig.add_subplot(211)\n",
    "plt.imshow(img)\n",
    "plt.title(\"Imagem Original\")\n",
    "\n",
    "ax2 = fig.add_subplot(212)\n",
    "plt.imshow(img_process)\n",
    "plt.title(\"Imagem com dilatação\")\n",
    "\n",
    "plt.show()"
   ],
   "outputs": [],
   "execution_count": null
  }
 ],
 "metadata": {
  "kernelspec": {
   "display_name": "Python 3 (ipykernel)",
   "language": "python",
   "name": "python3"
  },
  "language_info": {
   "codemirror_mode": {
    "name": "ipython",
    "version": 3
   },
   "file_extension": ".py",
   "mimetype": "text/x-python",
   "name": "python",
   "nbconvert_exporter": "python",
   "pygments_lexer": "ipython3"
  }
 },
 "nbformat": 4,
 "nbformat_minor": 5
}
