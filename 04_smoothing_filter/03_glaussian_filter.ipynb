{
 "cells": [
  {
   "cell_type": "markdown",
   "id": "34c159dbf5e70d17",
   "metadata": {},
   "source": [
    "### Filtro Gaussiano\n",
    "O filtro gaussiano é um filtro linear, passa-baixas. Apresenta bons resultados no tratamento de imagens com o ruído gaussiano.\n",
    "\n",
    "Importando as bibliotecas"
   ]
  },
  {
   "cell_type": "code",
   "execution_count": null,
   "id": "d055114a6c4f0baa",
   "metadata": {},
   "outputs": [],
   "source": [
    "import cv2 as cv\n",
    "from matplotlib import pyplot as plt\n",
    "%matplotlib inline"
   ]
  },
  {
   "cell_type": "code",
   "execution_count": null,
   "id": "f73fc60a0384e069",
   "metadata": {},
   "outputs": [],
   "source": [
    "img = cv.imread('images/03.PNG')"
   ]
  },
  {
   "cell_type": "markdown",
   "id": "84f065ef4a303bde",
   "metadata": {},
   "source": [
    "FUNÇÃO GaussianBlur(img, máscara, suavização)\n",
    "\n",
    "Entrada:\n",
    "1. img = Imagem com a qual queremos trabalhar.\n",
    "2. máscara = dimensão da máscara que será aplicada.\n",
    "3. suavização: Grau da suavização\n",
    "\n",
    "Saída:\n",
    "1. Matriz referente a imagem tratada."
   ]
  },
  {
   "cell_type": "code",
   "execution_count": null,
   "id": "12124ca877b6e7f5",
   "metadata": {},
   "outputs": [],
   "source": [
    "imgGauss = cv.GaussianBlur(img, (5,5), 0)"
   ]
  },
  {
   "cell_type": "code",
   "execution_count": null,
   "id": "67b4ea0e48288684",
   "metadata": {},
   "outputs": [],
   "source": [
    "fig = plt.figure(figsize=(20,50))\n",
    "ax1 = fig.add_subplot(121)\n",
    "plt.imshow(img)\n",
    "\n",
    "ax2 = fig.add_subplot(122)\n",
    "plt.imshow(imgGauss)\n",
    "plt.show()"
   ]
  }
 ],
 "metadata": {
  "kernelspec": {
   "display_name": "Python 3",
   "language": "python",
   "name": "python3"
  },
  "language_info": {
   "codemirror_mode": {
    "name": "ipython",
    "version": 2
   },
   "file_extension": ".py",
   "mimetype": "text/x-python",
   "name": "python",
   "nbconvert_exporter": "python",
   "pygments_lexer": "ipython2"
  }
 },
 "nbformat": 4,
 "nbformat_minor": 5
}
