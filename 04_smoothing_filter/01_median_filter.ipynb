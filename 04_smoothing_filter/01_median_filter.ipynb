{
 "cells": [
  {
   "cell_type": "markdown",
   "id": "688ed10db7694fa2",
   "metadata": {},
   "source": [
    "### Filtro mediana\n",
    "O filtro mediana é do tipo não linear e apresenta bons resultados no tratamento de ruído do tipo \"sal e pimenta\".\n",
    "\n",
    "É um tipo de técnica de tratamento de imagem capaz de suavizar preservando bordas e contornos da imagem.\n",
    "\n",
    "Importando as bibliotecas"
   ]
  },
  {
   "cell_type": "code",
   "execution_count": null,
   "id": "ab114efd1eb4a4e1",
   "metadata": {},
   "outputs": [],
   "source": [
    "import cv2 as cv\n",
    "from matplotlib import pyplot as plt\n",
    "%matplotlib inline"
   ]
  },
  {
   "cell_type": "code",
   "execution_count": null,
   "id": "99449d3369e9f747",
   "metadata": {},
   "outputs": [],
   "source": [
    "img = cv.imread('images/01.PNG')"
   ]
  },
  {
   "cell_type": "markdown",
   "id": "5cb54db69e151e37",
   "metadata": {},
   "source": [
    "FUNÇÃO **medianBlur(img, intensidade)**\n",
    "\n",
    "Entrada:\n",
    "1. img = Imagem com a qual queremos trabalhar.\n",
    "2. suavização: Grau da suavização\n",
    "\n",
    "Saída:\n",
    "1. Matriz referente a imagem tratada."
   ]
  },
  {
   "cell_type": "code",
   "execution_count": null,
   "id": "d7ac0a266d93e4ea",
   "metadata": {},
   "outputs": [],
   "source": [
    "imgMed = cv.medianBlur(img, 5)"
   ]
  },
  {
   "cell_type": "code",
   "execution_count": null,
   "id": "5270d32ea39f5b1d",
   "metadata": {},
   "outputs": [],
   "source": [
    "fig = plt.figure(figsize=(20,50))\n",
    "\n",
    "ax1 = fig.add_subplot(121)\n",
    "plt.imshow(img)\n",
    "\n",
    "ax2 = fig.add_subplot(122)\n",
    "plt.imshow(imgMed)\n",
    "plt.show()"
   ]
  }
 ],
 "metadata": {
  "kernelspec": {
   "display_name": "Python 3",
   "language": "python",
   "name": "python3"
  },
  "language_info": {
   "codemirror_mode": {
    "name": "ipython",
    "version": 2
   },
   "file_extension": ".py",
   "mimetype": "text/x-python",
   "name": "python",
   "nbconvert_exporter": "python",
   "pygments_lexer": "ipython2"
  }
 },
 "nbformat": 4,
 "nbformat_minor": 5
}
