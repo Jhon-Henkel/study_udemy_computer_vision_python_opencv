{
 "cells": [
  {
   "cell_type": "markdown",
   "id": "7fc7239d2d5156a8",
   "metadata": {},
   "source": [
    "## Filtro Média\n",
    "O filtro média é um filtro linear, classificado como passa-baixas. Esse tipo de filtro substitui cada pixel da imagem pelo valor médio de sua vizinhança.\n",
    "\n",
    "Importando as bibliotecas."
   ]
  },
  {
   "cell_type": "code",
   "execution_count": null,
   "id": "cd7ec12e304bfdb6",
   "metadata": {},
   "outputs": [],
   "source": [
    "import cv2 as cv\n",
    "from matplotlib import pyplot as plt\n",
    "%matplotlib inline"
   ]
  },
  {
   "cell_type": "code",
   "execution_count": null,
   "id": "637a806aea873fe7",
   "metadata": {},
   "outputs": [],
   "source": [
    "img = cv.imread('images/02.png')"
   ]
  },
  {
   "cell_type": "markdown",
   "id": "871d89e1e21d0aa5",
   "metadata": {},
   "source": [
    "FUNÇÃO **blur(img, máscara)**\n",
    "\n",
    "Entrada:\n",
    "1. Img = Imagem com a qual queremos trabalhar.\n",
    "2. máscara = dimensão da máscara que será aplicada.\n",
    "\n",
    "Saída:\n",
    "1. Matriz referente a imagem tratada."
   ]
  },
  {
   "cell_type": "code",
   "execution_count": null,
   "id": "1365aad020cf8e11",
   "metadata": {},
   "outputs": [],
   "source": [
    "# Dica: sempre passe valores impares\n",
    "imgM = cv.blur(img, (5,5))"
   ]
  },
  {
   "cell_type": "code",
   "execution_count": null,
   "id": "782ec8febb4e13e5",
   "metadata": {},
   "outputs": [],
   "source": [
    "fig = plt.figure(figsize=(20,50))\n",
    "ax1 = fig.add_subplot(121)\n",
    "plt.imshow(img)\n",
    "plt.title(\"Imagem com ruído\")\n",
    "\n",
    "ax2 = fig.add_subplot(122)\n",
    "plt.imshow(imgM)\n",
    "plt.title(\"Imagem Filtrada\")\n",
    "plt.show()"
   ]
  }
 ],
 "metadata": {
  "kernelspec": {
   "display_name": "Python 3",
   "language": "python",
   "name": "python3"
  },
  "language_info": {
   "codemirror_mode": {
    "name": "ipython",
    "version": 2
   },
   "file_extension": ".py",
   "mimetype": "text/x-python",
   "name": "python",
   "nbconvert_exporter": "python",
   "pygments_lexer": "ipython2"
  }
 },
 "nbformat": 4,
 "nbformat_minor": 5
}
