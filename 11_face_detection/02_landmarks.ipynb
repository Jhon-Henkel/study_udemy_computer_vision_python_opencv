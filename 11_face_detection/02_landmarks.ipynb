{
 "cells": [
  {
   "cell_type": "code",
   "execution_count": null,
   "id": "bcc1ef032e200765",
   "metadata": {},
   "outputs": [],
   "source": [
    "!pip install dlib"
   ]
  },
  {
   "cell_type": "code",
   "execution_count": null,
   "id": "ab34356df29a0c2e",
   "metadata": {},
   "outputs": [],
   "source": [
    "!pip install imutils"
   ]
  },
  {
   "cell_type": "code",
   "execution_count": null,
   "id": "c9ecf6ec28c1bf7b",
   "metadata": {},
   "outputs": [],
   "source": [
    "import cv2\n",
    "import dlib\n",
    "from imutils import face_utils"
   ]
  },
  {
   "cell_type": "markdown",
   "id": "61d681e11c6c76a0",
   "metadata": {},
   "source": [
    "A biblioteca dlib já possui de maneira já treinada um repositório próprio que consegue detectar 68 landmarks na face humana, vamos importar\n"
   ]
  },
  {
   "cell_type": "code",
   "execution_count": null,
   "id": "6c0483772040bda9",
   "metadata": {},
   "outputs": [],
   "source": [
    "path = 'shape_predictor_68_face_landmarks.dat'\n",
    "detector = dlib.get_frontal_face_detector()\n",
    "predictor = dlib.shape_predictor(path)\n",
    "\n",
    "cap = cv2.VideoCapture(0)\n"
   ]
  },
  {
   "cell_type": "markdown",
   "id": "dcaf861d4d1d4ec9",
   "metadata": {},
   "source": [
    "- Detecção da face pela webcam\n",
    "- Imagem em tons de cinza\n",
    "- Key-points e enumeração\n",
    "- Mostrar as landmarks detectadas"
   ]
  },
  {
   "cell_type": "code",
   "execution_count": null,
   "id": "8e0aac98aecbd272",
   "metadata": {},
   "outputs": [],
   "source": [
    "while True:\n",
    "    ret, frame = cap.read()\n",
    "    gray = cv2.cvtColor(frame, cv2.COLOR_BGR2GRAY)\n",
    "\n",
    "    rects = detector(gray, 0)\n",
    "\n",
    "    for (i, rect) in enumerate (rects):\n",
    "        shape = predictor(gray, rect)\n",
    "\n",
    "        for j in range(1, 68):\n",
    "            cv2.putText(frame, str(j), (shape.part(j).x, shape.part(j).y), fontFace=cv2.FONT_HERSHEY_SCRIPT_SIMPLEX, fontScale=0.3, color=(0, 0, 255))\n",
    "\n",
    "    cv2.imshow(\"Frame\", frame)\n",
    "    k = cv2.waitKey(5) & 0xFF\n",
    "    if k == 27:  # Pressione 'ESC' para sair\n",
    "        break\n",
    "\n",
    "cv2.destroyAllWindows()\n",
    "cap.release()"
   ]
  }
 ],
 "metadata": {
  "kernelspec": {
   "display_name": "Python 3",
   "language": "python",
   "name": "python3"
  },
  "language_info": {
   "codemirror_mode": {
    "name": "ipython",
    "version": 2
   },
   "file_extension": ".py",
   "mimetype": "text/x-python",
   "name": "python",
   "nbconvert_exporter": "python",
   "pygments_lexer": "ipython2"
  }
 },
 "nbformat": 4,
 "nbformat_minor": 5
}
