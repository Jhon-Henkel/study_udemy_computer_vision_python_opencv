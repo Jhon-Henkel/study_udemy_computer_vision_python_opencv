{
 "cells": [
  {
   "metadata": {},
   "cell_type": "code",
   "source": "!pip install dlib",
   "id": "bcc1ef032e200765",
   "outputs": [],
   "execution_count": null
  },
  {
   "metadata": {},
   "cell_type": "code",
   "source": "!pip install imutils",
   "id": "ab34356df29a0c2e",
   "outputs": [],
   "execution_count": null
  },
  {
   "metadata": {},
   "cell_type": "code",
   "source": [
    "import cv2\n",
    "import dlib\n",
    "from imutils import face_utils"
   ],
   "id": "c9ecf6ec28c1bf7b",
   "outputs": [],
   "execution_count": null
  },
  {
   "metadata": {},
   "cell_type": "markdown",
   "source": "A biblioteca dlib já possui de maneira já treinada um repositório próprio que consegue detectar 68 landmarks na face humana, vamos importar\n",
   "id": "61d681e11c6c76a0"
  },
  {
   "metadata": {},
   "cell_type": "code",
   "source": [
    "path = 'shape_predictor_68_face_landmarks.dat'\n",
    "detector = dlib.get_frontal_face_detector()\n",
    "predictor = dlib.shape_predictor(path)\n",
    "\n",
    "cap = cv2.VideoCapture(0)\n"
   ],
   "id": "6c0483772040bda9",
   "outputs": [],
   "execution_count": null
  },
  {
   "metadata": {},
   "cell_type": "markdown",
   "source": [
    "- Detecção da face pela webcam\n",
    "- Imagem em tons de cinza\n",
    "- Key-points e enumeração\n",
    "- Mostrar as landmarks detectadas"
   ],
   "id": "dcaf861d4d1d4ec9"
  },
  {
   "metadata": {},
   "cell_type": "code",
   "source": [
    "while True:\n",
    "    ret, frame = cap.read()\n",
    "    gray = cv2.cvtColor(frame, cv2.COLOR_BGR2GRAY)\n",
    "\n",
    "    rects = detector(gray, 0)\n",
    "\n",
    "    for (i, rect) in enumerate (rects):\n",
    "        shape = predictor(gray, rect)\n",
    "\n",
    "        for j in range(1, 68):\n",
    "            cv2.putText(frame, str(j), (shape.part(j).x, shape.part(j).y), fontFace=cv2.FONT_HERSHEY_SCRIPT_SIMPLEX, fontScale=0.3, color=(0, 0, 255))\n",
    "\n",
    "    cv2.imshow(\"Frame\", frame)\n",
    "    k = cv2.waitKey(5) & 0xFF\n",
    "    if k == 27:  # Pressione 'ESC' para sair\n",
    "        break\n",
    "\n",
    "cv2.destroyAllWindows()\n",
    "cap.release()"
   ],
   "id": "8e0aac98aecbd272",
   "outputs": [],
   "execution_count": null
  }
 ],
 "metadata": {
  "kernelspec": {
   "display_name": "Python 3",
   "language": "python",
   "name": "python3"
  },
  "language_info": {
   "codemirror_mode": {
    "name": "ipython",
    "version": 2
   },
   "file_extension": ".py",
   "mimetype": "text/x-python",
   "name": "python",
   "nbconvert_exporter": "python",
   "pygments_lexer": "ipython2",
   "version": "2.7.6"
  }
 },
 "nbformat": 4,
 "nbformat_minor": 5
}
